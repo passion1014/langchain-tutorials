{
  "cells": [
    {
      "cell_type": "markdown",
      "metadata": {
        "id": "view-in-github",
        "colab_type": "text"
      },
      "source": [
        "<a href=\"https://colab.research.google.com/github/passion1014/langchain-tutorials/blob/main/00_quick_start.ipynb\" target=\"_parent\"><img src=\"https://colab.research.google.com/assets/colab-badge.svg\" alt=\"Open In Colab\"/></a>"
      ]
    },
    {
      "cell_type": "code",
      "execution_count": 7,
      "id": "8d9e579c-e907-4b08-9960-d693110ee090",
      "metadata": {
        "colab": {
          "base_uri": "https://localhost:8080/"
        },
        "id": "8d9e579c-e907-4b08-9960-d693110ee090",
        "outputId": "8c8ad8d8-f8c4-40cb-fd68-3c595aaccac3"
      },
      "outputs": [
        {
          "output_type": "stream",
          "name": "stdout",
          "text": [
            "Requirement already satisfied: grpcio==1.56.0 in /usr/local/lib/python3.10/dist-packages (1.56.0)\n",
            "Requirement already satisfied: pymilvus in /usr/local/lib/python3.10/dist-packages (2.3.0)\n",
            "Requirement already satisfied: grpcio<=1.56.0,>=1.49.1 in /usr/local/lib/python3.10/dist-packages (from pymilvus) (1.56.0)\n",
            "Requirement already satisfied: protobuf>=3.20.0 in /usr/local/lib/python3.10/dist-packages (from pymilvus) (3.20.3)\n",
            "Requirement already satisfied: environs<=9.5.0 in /usr/local/lib/python3.10/dist-packages (from pymilvus) (9.5.0)\n",
            "Requirement already satisfied: ujson>=2.0.0 in /usr/local/lib/python3.10/dist-packages (from pymilvus) (5.8.0)\n",
            "Requirement already satisfied: pandas>=1.2.4 in /usr/local/lib/python3.10/dist-packages (from pymilvus) (1.5.3)\n",
            "Requirement already satisfied: marshmallow>=3.0.0 in /usr/local/lib/python3.10/dist-packages (from environs<=9.5.0->pymilvus) (3.20.1)\n",
            "Requirement already satisfied: python-dotenv in /usr/local/lib/python3.10/dist-packages (from environs<=9.5.0->pymilvus) (1.0.0)\n",
            "Requirement already satisfied: python-dateutil>=2.8.1 in /usr/local/lib/python3.10/dist-packages (from pandas>=1.2.4->pymilvus) (2.8.2)\n",
            "Requirement already satisfied: pytz>=2020.1 in /usr/local/lib/python3.10/dist-packages (from pandas>=1.2.4->pymilvus) (2023.3)\n",
            "Requirement already satisfied: numpy>=1.21.0 in /usr/local/lib/python3.10/dist-packages (from pandas>=1.2.4->pymilvus) (1.23.5)\n",
            "Requirement already satisfied: packaging>=17.0 in /usr/local/lib/python3.10/dist-packages (from marshmallow>=3.0.0->environs<=9.5.0->pymilvus) (23.1)\n",
            "Requirement already satisfied: six>=1.5 in /usr/local/lib/python3.10/dist-packages (from python-dateutil>=2.8.1->pandas>=1.2.4->pymilvus) (1.16.0)\n"
          ]
        }
      ],
      "source": [
        "#!python3.10 -m pip install grpcio==1.56.0\n",
        "#!python3.10 -m pip install pymilvus\n",
        "\n",
        "!pip install grpcio==1.56.0\n",
        "!pip install pymilvus\n",
        "\n",
        "# You'd better restart the runtime after installing pymilvus.\n",
        "# To do so, choose \"Runtime > Restart Runtime\" from the above main menu."
      ]
    },
    {
      "cell_type": "markdown",
      "id": "95fd0cbc-bf7a-444d-a66c-b4796f39602d",
      "metadata": {
        "id": "95fd0cbc-bf7a-444d-a66c-b4796f39602d"
      },
      "source": [
        "## Connect to Cluster\n",
        "\n",
        "When connecting to cluster using the starter API, you need to provide a cluster endpoint and the corresponding credentials:\n",
        "\n",
        "- For a serverless cluster, use an API key as the token.\n",
        "- For a dedicated cluster, use a colon (:) to concatenate the username and password for database access, such as `user:password`."
      ]
    },
    {
      "cell_type": "code",
      "execution_count": 8,
      "id": "2913a8f9-c7be-4dd2-a2e5-b8878b6b6a9e",
      "metadata": {
        "colab": {
          "base_uri": "https://localhost:8080/",
          "height": 400
        },
        "id": "2913a8f9-c7be-4dd2-a2e5-b8878b6b6a9e",
        "outputId": "a85f50cb-44a9-4047-b4e6-66114c72a92a"
      },
      "outputs": [
        {
          "output_type": "error",
          "ename": "ContextualVersionConflict",
          "evalue": "ignored",
          "traceback": [
            "\u001b[0;31m---------------------------------------------------------------------------\u001b[0m",
            "\u001b[0;31mContextualVersionConflict\u001b[0m                 Traceback (most recent call last)",
            "\u001b[0;32m<ipython-input-8-84ab3412cebb>\u001b[0m in \u001b[0;36m<cell line: 1>\u001b[0;34m()\u001b[0m\n\u001b[0;32m----> 1\u001b[0;31m \u001b[0;32mfrom\u001b[0m \u001b[0mpymilvus\u001b[0m \u001b[0;32mimport\u001b[0m \u001b[0mMilvusClient\u001b[0m\u001b[0;34m\u001b[0m\u001b[0;34m\u001b[0m\u001b[0m\n\u001b[0m\u001b[1;32m      2\u001b[0m \u001b[0;34m\u001b[0m\u001b[0m\n\u001b[1;32m      3\u001b[0m \u001b[0mCLUSTER_ENDPOINT\u001b[0m \u001b[0;34m=\u001b[0m \u001b[0;34m\"https://in03-bfa4469b6404aa3.api.gcp-us-west1.zillizcloud.com\"\u001b[0m\u001b[0;34m\u001b[0m\u001b[0;34m\u001b[0m\u001b[0m\n\u001b[1;32m      4\u001b[0m \u001b[0mTOKEN\u001b[0m \u001b[0;34m=\u001b[0m \u001b[0;34m\"a3d25208a17af9679b40440b61aeee5c9ad11db43e49d21761f65c5034d2637dda67a4ddf1833bba3ea2c68900c2d169b34e2a8f\"\u001b[0m\u001b[0;34m\u001b[0m\u001b[0;34m\u001b[0m\u001b[0m\n\u001b[1;32m      5\u001b[0m \u001b[0;34m\u001b[0m\u001b[0m\n",
            "\u001b[0;32m/usr/local/lib/python3.10/dist-packages/pymilvus/__init__.py\u001b[0m in \u001b[0;36m<module>\u001b[0;34m\u001b[0m\n\u001b[1;32m     11\u001b[0m \u001b[0;31m# the License.\u001b[0m\u001b[0;34m\u001b[0m\u001b[0;34m\u001b[0m\u001b[0m\n\u001b[1;32m     12\u001b[0m \u001b[0;34m\u001b[0m\u001b[0m\n\u001b[0;32m---> 13\u001b[0;31m \u001b[0;32mfrom\u001b[0m \u001b[0;34m.\u001b[0m\u001b[0mclient\u001b[0m \u001b[0;32mimport\u001b[0m \u001b[0m__version__\u001b[0m\u001b[0;34m\u001b[0m\u001b[0;34m\u001b[0m\u001b[0m\n\u001b[0m\u001b[1;32m     14\u001b[0m \u001b[0;32mfrom\u001b[0m \u001b[0;34m.\u001b[0m\u001b[0mclient\u001b[0m\u001b[0;34m.\u001b[0m\u001b[0mprepare\u001b[0m \u001b[0;32mimport\u001b[0m \u001b[0mPrepare\u001b[0m\u001b[0;34m\u001b[0m\u001b[0;34m\u001b[0m\u001b[0m\n\u001b[1;32m     15\u001b[0m \u001b[0;32mfrom\u001b[0m \u001b[0;34m.\u001b[0m\u001b[0mclient\u001b[0m\u001b[0;34m.\u001b[0m\u001b[0mstub\u001b[0m \u001b[0;32mimport\u001b[0m \u001b[0mMilvus\u001b[0m\u001b[0;34m\u001b[0m\u001b[0;34m\u001b[0m\u001b[0m\n",
            "\u001b[0;32m/usr/local/lib/python3.10/dist-packages/pymilvus/client/__init__.py\u001b[0m in \u001b[0;36m<module>\u001b[0;34m\u001b[0m\n\u001b[1;32m     13\u001b[0m \u001b[0;34m\u001b[0m\u001b[0m\n\u001b[1;32m     14\u001b[0m \u001b[0;32mwith\u001b[0m \u001b[0msuppress\u001b[0m\u001b[0;34m(\u001b[0m\u001b[0mDistributionNotFound\u001b[0m\u001b[0;34m)\u001b[0m\u001b[0;34m:\u001b[0m\u001b[0;34m\u001b[0m\u001b[0;34m\u001b[0m\u001b[0m\n\u001b[0;32m---> 15\u001b[0;31m     \u001b[0m__version__\u001b[0m \u001b[0;34m=\u001b[0m \u001b[0mget_distribution\u001b[0m\u001b[0;34m(\u001b[0m\u001b[0;34m\"pymilvus\"\u001b[0m\u001b[0;34m)\u001b[0m\u001b[0;34m.\u001b[0m\u001b[0mversion\u001b[0m\u001b[0;34m\u001b[0m\u001b[0;34m\u001b[0m\u001b[0m\n\u001b[0m\u001b[1;32m     16\u001b[0m \u001b[0;34m\u001b[0m\u001b[0m\n\u001b[1;32m     17\u001b[0m \u001b[0;34m\u001b[0m\u001b[0m\n",
            "\u001b[0;32m/usr/local/lib/python3.10/dist-packages/pkg_resources/__init__.py\u001b[0m in \u001b[0;36mget_distribution\u001b[0;34m(dist)\u001b[0m\n\u001b[1;32m    524\u001b[0m         \u001b[0mdist\u001b[0m \u001b[0;34m=\u001b[0m \u001b[0mRequirement\u001b[0m\u001b[0;34m.\u001b[0m\u001b[0mparse\u001b[0m\u001b[0;34m(\u001b[0m\u001b[0mdist\u001b[0m\u001b[0;34m)\u001b[0m\u001b[0;34m\u001b[0m\u001b[0;34m\u001b[0m\u001b[0m\n\u001b[1;32m    525\u001b[0m     \u001b[0;32mif\u001b[0m \u001b[0misinstance\u001b[0m\u001b[0;34m(\u001b[0m\u001b[0mdist\u001b[0m\u001b[0;34m,\u001b[0m \u001b[0mRequirement\u001b[0m\u001b[0;34m)\u001b[0m\u001b[0;34m:\u001b[0m\u001b[0;34m\u001b[0m\u001b[0;34m\u001b[0m\u001b[0m\n\u001b[0;32m--> 526\u001b[0;31m         \u001b[0mdist\u001b[0m \u001b[0;34m=\u001b[0m \u001b[0mget_provider\u001b[0m\u001b[0;34m(\u001b[0m\u001b[0mdist\u001b[0m\u001b[0;34m)\u001b[0m\u001b[0;34m\u001b[0m\u001b[0;34m\u001b[0m\u001b[0m\n\u001b[0m\u001b[1;32m    527\u001b[0m     \u001b[0;32mif\u001b[0m \u001b[0;32mnot\u001b[0m \u001b[0misinstance\u001b[0m\u001b[0;34m(\u001b[0m\u001b[0mdist\u001b[0m\u001b[0;34m,\u001b[0m \u001b[0mDistribution\u001b[0m\u001b[0;34m)\u001b[0m\u001b[0;34m:\u001b[0m\u001b[0;34m\u001b[0m\u001b[0;34m\u001b[0m\u001b[0m\n\u001b[1;32m    528\u001b[0m         \u001b[0;32mraise\u001b[0m \u001b[0mTypeError\u001b[0m\u001b[0;34m(\u001b[0m\u001b[0;34m\"Expected string, Requirement, or Distribution\"\u001b[0m\u001b[0;34m,\u001b[0m \u001b[0mdist\u001b[0m\u001b[0;34m)\u001b[0m\u001b[0;34m\u001b[0m\u001b[0;34m\u001b[0m\u001b[0m\n",
            "\u001b[0;32m/usr/local/lib/python3.10/dist-packages/pkg_resources/__init__.py\u001b[0m in \u001b[0;36mget_provider\u001b[0;34m(moduleOrReq)\u001b[0m\n\u001b[1;32m    396\u001b[0m     \u001b[0;34m\"\"\"Return an IResourceProvider for the named module or requirement\"\"\"\u001b[0m\u001b[0;34m\u001b[0m\u001b[0;34m\u001b[0m\u001b[0m\n\u001b[1;32m    397\u001b[0m     \u001b[0;32mif\u001b[0m \u001b[0misinstance\u001b[0m\u001b[0;34m(\u001b[0m\u001b[0mmoduleOrReq\u001b[0m\u001b[0;34m,\u001b[0m \u001b[0mRequirement\u001b[0m\u001b[0;34m)\u001b[0m\u001b[0;34m:\u001b[0m\u001b[0;34m\u001b[0m\u001b[0;34m\u001b[0m\u001b[0m\n\u001b[0;32m--> 398\u001b[0;31m         \u001b[0;32mreturn\u001b[0m \u001b[0mworking_set\u001b[0m\u001b[0;34m.\u001b[0m\u001b[0mfind\u001b[0m\u001b[0;34m(\u001b[0m\u001b[0mmoduleOrReq\u001b[0m\u001b[0;34m)\u001b[0m \u001b[0;32mor\u001b[0m \u001b[0mrequire\u001b[0m\u001b[0;34m(\u001b[0m\u001b[0mstr\u001b[0m\u001b[0;34m(\u001b[0m\u001b[0mmoduleOrReq\u001b[0m\u001b[0;34m)\u001b[0m\u001b[0;34m)\u001b[0m\u001b[0;34m[\u001b[0m\u001b[0;36m0\u001b[0m\u001b[0;34m]\u001b[0m\u001b[0;34m\u001b[0m\u001b[0;34m\u001b[0m\u001b[0m\n\u001b[0m\u001b[1;32m    399\u001b[0m     \u001b[0;32mtry\u001b[0m\u001b[0;34m:\u001b[0m\u001b[0;34m\u001b[0m\u001b[0;34m\u001b[0m\u001b[0m\n\u001b[1;32m    400\u001b[0m         \u001b[0mmodule\u001b[0m \u001b[0;34m=\u001b[0m \u001b[0msys\u001b[0m\u001b[0;34m.\u001b[0m\u001b[0mmodules\u001b[0m\u001b[0;34m[\u001b[0m\u001b[0mmoduleOrReq\u001b[0m\u001b[0;34m]\u001b[0m\u001b[0;34m\u001b[0m\u001b[0;34m\u001b[0m\u001b[0m\n",
            "\u001b[0;32m/usr/local/lib/python3.10/dist-packages/pkg_resources/__init__.py\u001b[0m in \u001b[0;36mrequire\u001b[0;34m(self, *requirements)\u001b[0m\n\u001b[1;32m    964\u001b[0m         \u001b[0mincluded\u001b[0m\u001b[0;34m,\u001b[0m \u001b[0meven\u001b[0m \u001b[0;32mif\u001b[0m \u001b[0mthey\u001b[0m \u001b[0mwere\u001b[0m \u001b[0malready\u001b[0m \u001b[0mactivated\u001b[0m \u001b[0;32min\u001b[0m \u001b[0mthis\u001b[0m \u001b[0mworking\u001b[0m \u001b[0mset\u001b[0m\u001b[0;34m.\u001b[0m\u001b[0;34m\u001b[0m\u001b[0;34m\u001b[0m\u001b[0m\n\u001b[1;32m    965\u001b[0m         \"\"\"\n\u001b[0;32m--> 966\u001b[0;31m         \u001b[0mneeded\u001b[0m \u001b[0;34m=\u001b[0m \u001b[0mself\u001b[0m\u001b[0;34m.\u001b[0m\u001b[0mresolve\u001b[0m\u001b[0;34m(\u001b[0m\u001b[0mparse_requirements\u001b[0m\u001b[0;34m(\u001b[0m\u001b[0mrequirements\u001b[0m\u001b[0;34m)\u001b[0m\u001b[0;34m)\u001b[0m\u001b[0;34m\u001b[0m\u001b[0;34m\u001b[0m\u001b[0m\n\u001b[0m\u001b[1;32m    967\u001b[0m \u001b[0;34m\u001b[0m\u001b[0m\n\u001b[1;32m    968\u001b[0m         \u001b[0;32mfor\u001b[0m \u001b[0mdist\u001b[0m \u001b[0;32min\u001b[0m \u001b[0mneeded\u001b[0m\u001b[0;34m:\u001b[0m\u001b[0;34m\u001b[0m\u001b[0;34m\u001b[0m\u001b[0m\n",
            "\u001b[0;32m/usr/local/lib/python3.10/dist-packages/pkg_resources/__init__.py\u001b[0m in \u001b[0;36mresolve\u001b[0;34m(self, requirements, env, installer, replace_conflicting, extras)\u001b[0m\n\u001b[1;32m    825\u001b[0m                 \u001b[0;32mcontinue\u001b[0m\u001b[0;34m\u001b[0m\u001b[0;34m\u001b[0m\u001b[0m\n\u001b[1;32m    826\u001b[0m \u001b[0;34m\u001b[0m\u001b[0m\n\u001b[0;32m--> 827\u001b[0;31m             dist = self._resolve_dist(\n\u001b[0m\u001b[1;32m    828\u001b[0m                 \u001b[0mreq\u001b[0m\u001b[0;34m,\u001b[0m \u001b[0mbest\u001b[0m\u001b[0;34m,\u001b[0m \u001b[0mreplace_conflicting\u001b[0m\u001b[0;34m,\u001b[0m \u001b[0menv\u001b[0m\u001b[0;34m,\u001b[0m \u001b[0minstaller\u001b[0m\u001b[0;34m,\u001b[0m \u001b[0mrequired_by\u001b[0m\u001b[0;34m,\u001b[0m \u001b[0mto_activate\u001b[0m\u001b[0;34m\u001b[0m\u001b[0;34m\u001b[0m\u001b[0m\n\u001b[1;32m    829\u001b[0m             )\n",
            "\u001b[0;32m/usr/local/lib/python3.10/dist-packages/pkg_resources/__init__.py\u001b[0m in \u001b[0;36m_resolve_dist\u001b[0;34m(self, req, best, replace_conflicting, env, installer, required_by, to_activate)\u001b[0m\n\u001b[1;32m    871\u001b[0m             \u001b[0;31m# Oops, the \"best\" so far conflicts with a dependency\u001b[0m\u001b[0;34m\u001b[0m\u001b[0;34m\u001b[0m\u001b[0m\n\u001b[1;32m    872\u001b[0m             \u001b[0mdependent_req\u001b[0m \u001b[0;34m=\u001b[0m \u001b[0mrequired_by\u001b[0m\u001b[0;34m[\u001b[0m\u001b[0mreq\u001b[0m\u001b[0;34m]\u001b[0m\u001b[0;34m\u001b[0m\u001b[0;34m\u001b[0m\u001b[0m\n\u001b[0;32m--> 873\u001b[0;31m             \u001b[0;32mraise\u001b[0m \u001b[0mVersionConflict\u001b[0m\u001b[0;34m(\u001b[0m\u001b[0mdist\u001b[0m\u001b[0;34m,\u001b[0m \u001b[0mreq\u001b[0m\u001b[0;34m)\u001b[0m\u001b[0;34m.\u001b[0m\u001b[0mwith_context\u001b[0m\u001b[0;34m(\u001b[0m\u001b[0mdependent_req\u001b[0m\u001b[0;34m)\u001b[0m\u001b[0;34m\u001b[0m\u001b[0;34m\u001b[0m\u001b[0m\n\u001b[0m\u001b[1;32m    874\u001b[0m         \u001b[0;32mreturn\u001b[0m \u001b[0mdist\u001b[0m\u001b[0;34m\u001b[0m\u001b[0;34m\u001b[0m\u001b[0m\n\u001b[1;32m    875\u001b[0m \u001b[0;34m\u001b[0m\u001b[0m\n",
            "\u001b[0;31mContextualVersionConflict\u001b[0m: (grpcio 1.57.0 (/usr/local/lib/python3.10/dist-packages), Requirement.parse('grpcio<=1.56.0,>=1.49.1'), {'pymilvus'})"
          ]
        }
      ],
      "source": [
        "from pymilvus import MilvusClient\n",
        "\n",
        "CLUSTER_ENDPOINT = \"https://in03-bfa4469b6404aa3.api.gcp-us-west1.zillizcloud.com\"\n",
        "TOKEN = \"a3d25208a17af9679b40440b61aeee5c9ad11db43e49d21761f65c5034d2637dda67a4ddf1833bba3ea2c68900c2d169b34e2a8f\"\n",
        "\n",
        "# Initialize a MilvusClient instance\n",
        "# Replace uri and API key with your own\n",
        "client = MilvusClient(\n",
        "    uri=CLUSTER_ENDPOINT, # Cluster endpoint obtained from the console\n",
        "    # - For a serverless cluster, use an API key as the token.\n",
        "    # - For a dedicated cluster, use the cluster credentials as the token\n",
        "    # in the format of 'user:password'.\n",
        "    token=TOKEN\n",
        ")"
      ]
    },
    {
      "cell_type": "markdown",
      "id": "bec29ca3-e494-476f-a54c-39203612a002",
      "metadata": {
        "id": "bec29ca3-e494-476f-a54c-39203612a002"
      },
      "source": [
        "## Create Collection\n",
        "\n",
        "Once the `client` is ready, you can use the `client` to create a collection. The collection created using the starter API has dynamic schema enabled by default and automatically loads the collection once it is created. In the collection, there are two fields, named **id** and **vector** by default, and they serve as the primary key and the vector key, respectively.\n"
      ]
    },
    {
      "cell_type": "code",
      "execution_count": null,
      "id": "ebf0da44-0868-4b4f-bbab-564f5d6dabe0",
      "metadata": {
        "colab": {
          "base_uri": "https://localhost:8080/"
        },
        "id": "ebf0da44-0868-4b4f-bbab-564f5d6dabe0",
        "outputId": "7f9a00f7-d17d-4270-9f1c-13a6a592d3df"
      },
      "outputs": [
        {
          "output_type": "stream",
          "name": "stderr",
          "text": [
            "DEBUG:root:Successfully created collection: medium_articles_2020\n",
            "WARNING:pymilvus.decorators:alloc_timestamp unimplemented, ignore it\n",
            "DEBUG:root:Successfully created an index on collection: medium_articles_2020\n"
          ]
        }
      ],
      "source": [
        "# Create a collection\n",
        "client.create_collection(\n",
        "    collection_name=\"medium_articles_2020\",\n",
        "    dimension=768\n",
        ")"
      ]
    },
    {
      "cell_type": "markdown",
      "id": "8a35b6a9-d47b-41c9-aa33-78c4d4f7821d",
      "metadata": {
        "id": "8a35b6a9-d47b-41c9-aa33-78c4d4f7821d"
      },
      "source": [
        "## Describe Collection\n",
        "\n",
        "You can use the **Describe_Collection API** to view the details of the created collection as follows:"
      ]
    },
    {
      "cell_type": "code",
      "execution_count": null,
      "id": "d98331d4-d317-47c1-901e-b57df5c4f10b",
      "metadata": {
        "colab": {
          "base_uri": "https://localhost:8080/"
        },
        "id": "d98331d4-d317-47c1-901e-b57df5c4f10b",
        "outputId": "c88713b6-46ae-44b7-ac4a-e3ebc71f79f6"
      },
      "outputs": [
        {
          "output_type": "stream",
          "name": "stdout",
          "text": [
            "{'collection_name': 'medium_articles_2020', 'auto_id': False, 'num_shards': 1, 'description': '', 'fields': [{'field_id': 100, 'name': 'id', 'description': '', 'type': 5, 'params': {}, 'is_primary': True}, {'field_id': 101, 'name': 'vector', 'description': '', 'type': 101, 'params': {'dim': 768}}], 'aliases': [], 'collection_id': 443301488834640979, 'consistency_level': 2, 'properties': [], 'num_partitions': 1, 'enable_dynamic_field': True}\n"
          ]
        }
      ],
      "source": [
        "# Describe the created collection\n",
        "res = client.describe_collection(\n",
        "    collection_name='medium_articles_2020'\n",
        ")\n",
        "\n",
        "print(res)"
      ]
    },
    {
      "cell_type": "code",
      "execution_count": null,
      "id": "f68781a7-3ee5-40fe-98cf-db8a936a9c60",
      "metadata": {
        "colab": {
          "base_uri": "https://localhost:8080/"
        },
        "id": "f68781a7-3ee5-40fe-98cf-db8a936a9c60",
        "outputId": "1a6a0e24-0f43-480e-83cc-a2cdbf6a0fb8"
      },
      "outputs": [
        {
          "output_type": "stream",
          "name": "stdout",
          "text": [
            "medium_articles_2020\n"
          ]
        }
      ],
      "source": [
        "# You can use the get method to retrieve the value of a specific key.\n",
        "\n",
        "print(res.get(\"collection_name\"))"
      ]
    },
    {
      "cell_type": "markdown",
      "id": "e534a5bf-3ffa-4ac7-861a-141a04792ba6",
      "metadata": {
        "id": "e534a5bf-3ffa-4ac7-861a-141a04792ba6"
      },
      "source": [
        "## Insert Data\n",
        "\n",
        "In this example, we have prepared a dataset containing over 5,000 articles from [Medium.com](medium.com) published from January through August in 2020. You can download the prepared dataset from [here](https://s3.us-west-2.amazonaws.com/publicdataset.zillizcloud.com/medium_articles_2020_dpr/medium_articles_2020_dpr.json). To know more about the dataset, read [the introduction page on Kaggle](https://www.kaggle.com/datasets/shiyu22chen/cleaned-medium-articles-dataset)."
      ]
    },
    {
      "cell_type": "code",
      "execution_count": null,
      "id": "e7429aa7-c5d8-4dba-8ab8-ea208cd0fe8e",
      "metadata": {
        "colab": {
          "base_uri": "https://localhost:8080/"
        },
        "id": "e7429aa7-c5d8-4dba-8ab8-ea208cd0fe8e",
        "outputId": "b776b8ab-d50e-4aef-a7f5-12e9c7391352"
      },
      "outputs": [
        {
          "output_type": "stream",
          "name": "stdout",
          "text": [
            "  % Total    % Received % Xferd  Average Speed   Time    Time     Time  Current\n",
            "                                 Dload  Upload   Total   Spent    Left  Speed\n",
            "100 60.4M  100 60.4M    0     0  29.2M      0  0:00:02  0:00:02 --:--:-- 29.2M\n"
          ]
        }
      ],
      "source": [
        "# Download the dataset\n",
        "\n",
        "!curl https://assets.zilliz.com/medium_articles_2020_dpr_a13e0377ae.json \\\n",
        "    --output medium_articles_2020_dpr.json"
      ]
    },
    {
      "cell_type": "code",
      "execution_count": null,
      "id": "3d32f009-d13d-493e-aa12-0c411048e0d1",
      "metadata": {
        "colab": {
          "base_uri": "https://localhost:8080/"
        },
        "id": "3d32f009-d13d-493e-aa12-0c411048e0d1",
        "outputId": "b5f1ea15-852a-42b4-ba60-e7fc66ae4732"
      },
      "outputs": [
        {
          "output_type": "stream",
          "name": "stdout",
          "text": [
            "[0]\n"
          ]
        }
      ],
      "source": [
        "# Insert a single entity\n",
        "import json\n",
        "\n",
        "# Insert a single entity\n",
        "res = client.insert(\n",
        "    collection_name=\"medium_articles_2020\",\n",
        "    data={\n",
        "        'id': 0,\n",
        "        'title': 'The Reported Mortality Rate of Coronavirus Is Not Important',\n",
        "        'link': 'https://medium.com/swlh/the-reported-mortality-rate-of-coronavirus-is-not-important-369989c8d912',\n",
        "        'reading_time': 13,\n",
        "        'publication': 'The Startup',\n",
        "        'claps': 1100,\n",
        "        'responses': 18,\n",
        "        'vector': [0.041732933, 0.013779674, -0.027564144, -0.013061441, 0.009748648, 0.00082446384, -0.00071647146, 0.048612226, -0.04836573, -0.04567751, 0.018008126, 0.0063936645, -0.011913628, 0.030776596, -0.018274948, 0.019929802, 0.020547243, 0.032735646, -0.031652678, -0.033816382, -0.051087562, -0.033748355, 0.0039493158, 0.009246126, -0.060236514, -0.017136049, 0.028754413, -0.008433934, 0.011168004, -0.012391256, -0.011225835, 0.031775184, 0.002929508, -0.007448661, -0.005337719, -0.010999258, -0.01515909, -0.005130484, 0.0060212007, 0.0034560722, -0.022935811, -0.04970116, -0.0155887455, 0.06627353, -0.006052789, -0.051570725, -0.109865054, 0.033205193, 0.00041118253, 0.0029823708, 0.036160238, -0.011256539, 0.00023560718, 0.058322437, 0.022275906, 0.015206677, -0.02884609, 0.0016338055, 0.0049200393, 0.014388571, -0.0049061654, -0.04664761, -0.027454877, 0.017526226, -0.005100602, 0.018090058, 0.02700998, 0.04031944, -0.0097965, -0.03674761, -0.0043163053, -0.023320708, 0.012654851, -0.014262311, -0.008081833, -0.018334744, 0.0014025003, -0.003053399, -0.002636383, -0.022398386, -0.004725274, 0.00036367847, -0.012368711, 0.0014739085, 0.03450414, 0.009684024, 0.017912658, 0.06594397, 0.021381201, 0.029343689, -0.0069561847, 0.026152428, 0.04635037, 0.014746184, -0.002119602, 0.034359712, -0.013705124, 0.010691518, 0.04060854, 0.013679299, -0.018990282, 0.035340093, 0.007353945, -0.035990074, 0.013126987, -0.032933377, -0.001756877, -0.0049658176, -0.03380879, -0.07024137, -0.0130426735, 0.010533265, -0.023091802, -0.004645729, -0.03344451, 0.04759929, 0.025985204, -0.040710885, -0.016681142, -0.024664842, -0.025170377, 0.08839205, -0.023733815, 0.019494494, 0.0055427826, 0.045460507, 0.07066554, 0.022181382, 0.018302314, 0.026806992, -0.006066003, 0.046525814, -0.04066389, 0.019001767, 0.021242762, -0.020784091, -0.031635042, 0.04573943, 0.02515421, -0.050663553, -0.05183343, -0.046468202, -0.07910535, 0.017036669, 0.021445233, 0.04277428, -0.020235524, -0.055314954, 0.00904601, -0.01104365, 0.03069203, -0.00821997, -0.035594665, 0.024322856, -0.0068963314, 0.009003657, 0.00398102, -0.008596356, 0.014772055, 0.02740991, 0.025503553, 0.0038213644, -0.0047855405, -0.034888722, 0.030553816, -0.008325959, 0.030010607, 0.023729775, 0.016138833, -0.022967983, -0.08616877, -0.02460819, -0.008210168, -0.06444098, 0.018750126, -0.03335763, 0.022024624, 0.032374356, 0.023870794, 0.021288997, -0.026617877, 0.020435361, -0.003692393, -0.024113296, 0.044870164, -0.030451361, 0.013022849, 0.002278627, -0.027616743, -0.012087787, -0.033232547, -0.022974484, 0.02801226, -0.029057292, 0.060317725, -0.02312559, 0.015558754, 0.073630534, 0.02490823, -0.0140531305, -0.043771528, 0.040756326, 0.01667925, -0.0046050115, -0.08938058, 0.10560781, 0.015044094, 0.003613817, 0.013523503, -0.011039813, 0.06396795, 0.013428416, -0.025031878, -0.014972648, -0.015970055, 0.037022553, -0.013759925, 0.013363354, 0.0039748577, -0.0040822625, 0.018209668, -0.057496265, 0.034993384, 0.07075411, 0.023498386, 0.085871644, 0.028646072, 0.007590898, 0.07037031, -0.05005178, 0.010477505, -0.014106617, 0.013402172, 0.007472563, -0.03131418, 0.020552127, -0.031878896, -0.04170217, -0.03153583, 0.03458349, 0.03366634, 0.021306382, -0.037176874, 0.029069472, 0.014662372, 0.0024123765, -0.025403008, -0.0372993, -0.049923114, -0.014209514, -0.015524425, 0.036377322, 0.04259327, -0.029715618, 0.02657093, -0.0062432447, -0.0024253451, -0.021287171, 0.010478781, -0.029322306, -0.021203341, 0.047209084, 0.025337176, 0.018471811, -0.008709492, -0.047414266, -0.06227469, -0.05713435, 0.02141101, 0.024481304, 0.07176469, 0.0211379, -0.049316987, -0.124073654, 0.0049275495, -0.02461509, -0.02738388, 0.04825289, -0.05069646, 0.012640115, -0.0061352802, 0.034599125, 0.02799496, -0.01511028, -0.046418104, 0.011309801, 0.016673129, -0.033531003, -0.049203333, -0.027218347, -0.03528408, 0.008881575, 0.010736325, 0.034232814, 0.012807507, -0.0100207105, 0.0067757815, 0.009538357, 0.026212366, -0.036120333, -0.019764563, 0.006527411, -0.016437015, -0.009759148, -0.042246807, 0.012492151, 0.0066206953, 0.010672299, -0.44499892, -0.036189068, -0.015703931, -0.031111298, -0.020329623, 0.0047888453, 0.090396516, -0.041484866, 0.033830352, -0.0033847596, 0.06065415, 0.030880837, 0.05558494, 0.022805553, 0.009607596, 0.006682602, 0.036806617, 0.02406229, 0.034229457, -0.0105605405, 0.034754273, 0.02436426, -0.03849325, 0.021132406, -0.01251386, 0.022090863, -0.029137045, 0.0064384523, -0.03175176, -0.0070441505, 0.016025176, -0.023172623, 0.00076795724, -0.024106828, -0.045440633, -0.0074440194, 0.00035374766, 0.024374487, 0.0058897804, -0.012461025, -0.029086761, 0.0029477053, -0.022914894, -0.032369837, 0.020743662, 0.024116345, 0.0020526652, 0.0008596536, -0.000583463, 0.061080184, 0.020812698, -0.0235381, 0.08112197, 0.05689626, -0.003070104, -0.010714772, -0.004864459, 0.027089117, -0.030910335, 0.0017404438, -0.014978656, 0.0127020255, 0.01878998, -0.051732827, -0.0037475713, 0.013033434, -0.023682894, -0.03219574, 0.03736345, 0.0058930484, -0.054040316, 0.047637977, 0.012636436, -0.05820182, 0.013828813, -0.057893142, -0.012405234, 0.030266648, -0.0029184038, -0.021839319, -0.045179468, -0.013123978, -0.021320488, 0.0015718226, 0.020244086, -0.014414709, 0.009535103, -0.004497577, -0.02577227, -0.0085017495, 0.029090486, 0.009356506, 0.0055838437, 0.021151636, 0.039531752, 0.07814674, 0.043186333, -0.0077368533, 0.028967595, 0.025058193, 0.05432941, -0.04383656, -0.027070394, -0.080263995, -0.03616516, -0.026129462, -0.0033627374, 0.035040155, 0.015231506, -0.06372076, 0.046391208, 0.0049725454, 0.003783345, -0.057800908, 0.061461, -0.017880175, 0.022820404, 0.048944063, 0.04725843, -0.013392871, 0.05023065, 0.0069421427, -0.019561166, 0.012953843, 0.06227977, -0.02114757, -0.003334329, 0.023241237, -0.061053444, -0.023145229, 0.016086273, 0.0774039, 0.008069459, -0.0013532874, -0.016790181, -0.027246375, -0.03254919, 0.033754334, 0.00037142826, -0.02387325, 0.0057056695, 0.0084914565, -0.051856343, 0.029254, 0.005583839, 0.011591886, -0.033027634, -0.004170374, 0.018334484, -0.0030969654, 0.0024489106, 0.0030196267, 0.023012564, 0.020529047, 0.00010772953, 0.0017700809, 0.029260442, -0.018829526, -0.024797931, -0.039499596, 0.008108761, -0.013099816, -0.11726566, -0.005652353, -0.008117937, -0.012961832, 0.0152542135, -0.06429504, 0.0184562, 0.058997117, -0.027178442, -0.019294549, -0.01587592, 0.0048053437, 0.043830805, 0.011232237, -0.026841154, -0.0007282251, -0.00862919, -0.008405325, 0.019370917, -0.008112641, -0.014931766, 0.065622255, 0.0149185015, 0.013089685, -0.0028022556, -0.028629888, -0.048105706, 0.009296162, 0.010251239, 0.030800395, 0.028263845, -0.011021621, -0.034127586, 0.014709971, -0.0075270324, 0.010737263, 0.020517904, -0.012932179, 0.007153817, 0.03736311, -0.03391106, 0.03028614, 0.012531187, -0.046059456, -0.0043963846, 0.028799629, -0.06663413, -0.009447025, -0.019833198, -0.036111858, -0.01901045, 0.040701825, 0.0060573653, 0.027482377, -0.019782187, -0.020186251, 0.028398912, 0.027108852, 0.026535714, -0.000995191, -0.020599326, -0.005658084, -0.017271476, 0.026300041, -0.006992451, -0.08593853, 0.03675959, 0.0029454317, -0.040927384, -0.035480253, 0.016498009, -0.03406521, -0.026182177, -0.0007024827, 0.019500641, 0.0047998386, -0.02416359, 0.0019833131, 0.0033488963, 0.037788488, -0.009154958, -0.043469638, -0.024896, -0.017234193, 0.044996973, -0.06303135, -0.051730774, 0.04041444, 0.0075959326, -0.03901764, -0.019851806, -0.008242245, 0.06107143, 0.030118924, -0.016167669, -0.028161867, -0.0025679746, -0.021713274, 0.025275888, -0.012819265, -0.036431268, 0.017991759, 0.040626206, -0.0036572467, -0.0005935883, -0.0037468506, 0.034460746, -0.0182785, -0.00431203, -0.044755403, 0.016463224, 0.041199315, -0.0093387, 0.03919184, -0.01151653, -0.016965209, 0.006347649, 0.021104146, 0.060276803, -0.026659148, 0.026461488, -0.032700688, 0.0012274865, -0.024675943, -0.003006079, -0.009607032, 0.010597691, 0.0043017124, -0.01908524, 0.006748306, -0.03049305, -0.017481703, 0.036747415, 0.036634356, 0.0007106319, 0.045647435, -0.020883067, -0.0593661, -0.03929885, 0.042825453, 0.016104022, -0.03222858, 0.031112716, 0.020407677, -0.013276762, 0.03657825, -0.033871554, 0.004176301, 0.009538976, -0.009995692, 0.0042660628, 0.050545394, -0.018142857, 0.005219403, 0.0006711967, -0.014264284, 0.031044828, -0.01827481, 0.012488852, 0.031393733, 0.050390214, -0.014484084, -0.054758117, 0.055042055, -0.005506624, -0.0066648237, 0.010891078, 0.012446279, 0.061687976, 0.018091502, 0.0026527622, 0.0321537, -0.02469515, 0.01772019, 0.006846163, -0.07471038, -0.024433741, 0.02483875, 0.0497063, 0.0043456135, 0.056550737, 0.035752796, -0.02430349, 0.036570627, -0.027576203, -0.012418993, 0.023442797, -0.03433812, 0.01953399, -0.028003592, -0.021168072, 0.019414881, -0.014712576, -0.0003938545, 0.021453558, -0.023197332, -0.004455581, -0.08799191, 0.0010808896, 0.009281116, -0.0051161298, 0.031497046, 0.034916095, -0.023042161, 0.030799815, 0.017298799, 0.0015253434, 0.013728047, 0.0035838438, 0.016767647, -0.022243451, 0.013371096, 0.053564783, -0.008776885, -0.013133307, 0.015577713, -0.027008705, 0.009490815, -0.04103532, -0.012426461, -0.0050485474, -0.04323231, -0.013291623, -0.01660157, -0.055480026, 0.017622838, 0.017476618, -0.009798125, 0.038226977, -0.03127579, 0.019329516, 0.033461004, -0.0039813113, -0.039526325, 0.03884973, -0.011381027, -0.023257744, 0.03033401, 0.0029607012, -0.0006490531, -0.0347344, 0.029701462, -0.04153701, 0.028073426, -0.025427297, 0.009756264, -0.048082624, 0.021743972, 0.057197016, 0.024082556, -0.013968224, 0.044379756, -0.029081704, 0.003487999, 0.042621125, -0.04339743, -0.027005397, -0.02944044, -0.024172144, -0.07388652, 0.05952364, 0.02561452, -0.010255158, -0.015288555, 0.045012463, 0.012403602, -0.021197597, 0.025847573, -0.016983166, 0.03021369, -0.02920852, 0.035140667, -0.010627725, -0.020431923, 0.03191218, 0.0046844087, 0.056356475, -0.00012615003, -0.0052536936, -0.058609407, 0.009710908, 0.00041168949, -0.22300485, -0.0077232462, 0.0029359192, -0.028645728, -0.021156758, 0.029606635, -0.026473567, -0.0019432966, 0.023867624, 0.021946864, -0.00082128344, 0.01897284, -0.017976845, -0.015677344, -0.0026336901, 0.030096486]\n",
        "    }\n",
        ")\n",
        "\n",
        "print(res)"
      ]
    },
    {
      "cell_type": "code",
      "execution_count": null,
      "id": "cae3361a-a6af-4594-accd-ffac9542dc72",
      "metadata": {
        "colab": {
          "base_uri": "https://localhost:8080/"
        },
        "id": "cae3361a-a6af-4594-accd-ffac9542dc72",
        "outputId": "24ba7a9a-a6ab-4ab5-cd37-f4525bbd7825"
      },
      "outputs": [
        {
          "output_type": "stream",
          "name": "stdout",
          "text": [
            "[1, 2, 3, 4, 5, 6, 7, 8, 9, 10, 11, 12, 13, 14, 15, 16, 17, 18, 19, 20, 21, 22, 23, 24, 25, 26, 27, 28, 29, 30, 31, 32, 33, 34, 35, 36, 37, 38, 39, 40, 41, 42, 43, 44, 45, 46, 47, 48, 49, 50, 51, 52, 53, 54, 55, 56, 57, 58, 59, 60, 61, 62, 63, 64, 65, 66, 67, 68, 69, 70, 71, 72, 73, 74, 75, 76, 77, 78, 79, 80, 81, 82, 83, 84, 85, 86, 87, 88, 89, 90, 91, 92, 93, 94, 95, 96, 97, 98, 99, 100, 101, 102, 103, 104, 105, 106, 107, 108, 109, 110, 111, 112, 113, 114, 115, 116, 117, 118, 119, 120, 121, 122, 123, 124, 125, 126, 127, 128, 129, 130, 131, 132, 133, 134, 135, 136, 137, 138, 139, 140, 141, 142, 143, 144, 145, 146, 147, 148, 149, 150, 151, 152, 153, 154, 155, 156, 157, 158, 159, 160, 161, 162, 163, 164, 165, 166, 167, 168, 169, 170, 171, 172, 173, 174, 175, 176, 177, 178, 179, 180, 181, 182, 183, 184, 185, 186, 187, 188, 189, 190, 191, 192, 193, 194, 195, 196, 197, 198, 199]\n"
          ]
        }
      ],
      "source": [
        "# Insert multiple entities from the dataset\n",
        "\n",
        "# Read the first 200 records\n",
        "with open(\"medium_articles_2020_dpr.json\") as f:\n",
        "  data = json.load(f)\n",
        "  data = data[\"rows\"][1:200]\n",
        "  for x in data:\n",
        "    x[\"vector\"] = x.pop(\"title_vector\")\n",
        "\n",
        "# Insert multiple entities\n",
        "res = client.insert(\n",
        "  collection_name=\"medium_articles_2020\",\n",
        "  data=data\n",
        ")\n",
        "\n",
        "print(res)"
      ]
    },
    {
      "cell_type": "markdown",
      "id": "cc8b69c0-e7a3-4cd2-9bb3-5a40d6dce00f",
      "metadata": {
        "id": "cc8b69c0-e7a3-4cd2-9bb3-5a40d6dce00f"
      },
      "source": [
        "### Flush your data\n",
        "\n",
        "Note that Zilliz Cloud will persist all the inserted data eventually. However, if you need an immediate search of a large piece of data just inserted, you are advised to manually flush the data for a better performance."
      ]
    },
    {
      "cell_type": "code",
      "execution_count": null,
      "id": "70772d0e-3260-4722-951a-18e1edae5a9c",
      "metadata": {
        "id": "70772d0e-3260-4722-951a-18e1edae5a9c"
      },
      "outputs": [],
      "source": [
        "client.flush(\"medium_articles_2020\")"
      ]
    },
    {
      "cell_type": "markdown",
      "id": "89a2d282-fd80-47ef-8c8b-f243b9e1c096",
      "metadata": {
        "id": "89a2d282-fd80-47ef-8c8b-f243b9e1c096"
      },
      "source": [
        "## Perform an ANN Search\n",
        "\n",
        "In the dataset, the vector field contains vector embeddings of each article’s title. This example illustrates how to conduct an ANN search among these vectors (finding the closest titles with a query vector data)."
      ]
    },
    {
      "cell_type": "code",
      "execution_count": null,
      "id": "598fbb9c-c9c9-4398-9bc0-6b201308f4ef",
      "metadata": {
        "colab": {
          "base_uri": "https://localhost:8080/"
        },
        "id": "598fbb9c-c9c9-4398-9bc0-6b201308f4ef",
        "outputId": "04e50ed4-68b4-4f10-dd58-fa33577b556b"
      },
      "outputs": [
        {
          "output_type": "stream",
          "name": "stdout",
          "text": [
            "[\n",
            "    [\n",
            "        {\n",
            "            \"id\": 0,\n",
            "            \"distance\": -1.0,\n",
            "            \"entity\": {\n",
            "                \"title\": \"The Reported Mortality Rate of Coronavirus Is Not Important\"\n",
            "            }\n",
            "        },\n",
            "        {\n",
            "            \"id\": 70,\n",
            "            \"distance\": -0.7525784969329834,\n",
            "            \"entity\": {\n",
            "                \"title\": \"How bad will the Coronavirus Outbreak get? \\u2014 Predicting the outbreak figures\"\n",
            "            }\n",
            "        },\n",
            "        {\n",
            "            \"id\": 160,\n",
            "            \"distance\": -0.7132074236869812,\n",
            "            \"entity\": {\n",
            "                \"title\": \"The Funeral Industry is a Killer\"\n",
            "            }\n",
            "        },\n",
            "        {\n",
            "            \"id\": 111,\n",
            "            \"distance\": -0.6888885498046875,\n",
            "            \"entity\": {\n",
            "                \"title\": \"The role of AI in web-based ADA and WCAG compliance\"\n",
            "            }\n",
            "        },\n",
            "        {\n",
            "            \"id\": 196,\n",
            "            \"distance\": -0.6882869601249695,\n",
            "            \"entity\": {\n",
            "                \"title\": \"The Question We Should Be Asking About the Cost of Youth Sports\"\n",
            "            }\n",
            "        },\n",
            "        {\n",
            "            \"id\": 51,\n",
            "            \"distance\": -0.6719912886619568,\n",
            "            \"entity\": {\n",
            "                \"title\": \"What if Facebook had to pay you for the profit they are making?\"\n",
            "            }\n",
            "        },\n",
            "        {\n",
            "            \"id\": 178,\n",
            "            \"distance\": -0.6699185371398926,\n",
            "            \"entity\": {\n",
            "                \"title\": \"Is The Environmental Damage Due To Cruise Ships Irreversible?\"\n",
            "            }\n",
            "        },\n",
            "        {\n",
            "            \"id\": 47,\n",
            "            \"distance\": -0.6680259704589844,\n",
            "            \"entity\": {\n",
            "                \"title\": \"What Happens When the Google Cookie Crumbles?\"\n",
            "            }\n",
            "        },\n",
            "        {\n",
            "            \"id\": 135,\n",
            "            \"distance\": -0.6597772836685181,\n",
            "            \"entity\": {\n",
            "                \"title\": \"How to Manage Risk as a Product Manager\"\n",
            "            }\n",
            "        },\n",
            "        {\n",
            "            \"id\": 161,\n",
            "            \"distance\": -0.6539953947067261,\n",
            "            \"entity\": {\n",
            "                \"title\": \"Why Should Businesses Track their Social Impact?\"\n",
            "            }\n",
            "        }\n",
            "    ]\n",
            "]\n"
          ]
        }
      ],
      "source": [
        "with open(\"medium_articles_2020_dpr.json\") as f:\n",
        "  data = json.load(f)\n",
        "\n",
        "# Search with a query vector\n",
        "res = client.search(\n",
        "    collection_name=\"medium_articles_2020\",\n",
        "    data=[data[\"rows\"][0][\"title_vector\"]],\n",
        "    output_fields=[\"title\"]\n",
        ")\n",
        "\n",
        "print(json.dumps(res, indent=4))"
      ]
    },
    {
      "cell_type": "code",
      "execution_count": null,
      "id": "da350f26-6d5e-46a9-a7f8-5efa1b5b71a6",
      "metadata": {
        "colab": {
          "base_uri": "https://localhost:8080/"
        },
        "id": "da350f26-6d5e-46a9-a7f8-5efa1b5b71a6",
        "outputId": "1d65100a-9995-4504-c7a8-92a883e954c6"
      },
      "outputs": [
        {
          "output_type": "stream",
          "name": "stdout",
          "text": [
            "[\n",
            "    [\n",
            "        {\n",
            "            \"id\": 0,\n",
            "            \"distance\": -1.0,\n",
            "            \"entity\": {\n",
            "                \"title\": \"The Reported Mortality Rate of Coronavirus Is Not Important\",\n",
            "                \"publication\": \"The Startup\",\n",
            "                \"claps\": 1100\n",
            "            }\n",
            "        },\n",
            "        {\n",
            "            \"id\": 70,\n",
            "            \"distance\": -0.7525784969329834,\n",
            "            \"entity\": {\n",
            "                \"title\": \"How bad will the Coronavirus Outbreak get? \\u2014 Predicting the outbreak figures\",\n",
            "                \"publication\": \"Towards Data Science\",\n",
            "                \"claps\": 1100\n",
            "            }\n",
            "        },\n",
            "        {\n",
            "            \"id\": 160,\n",
            "            \"distance\": -0.7132074236869812,\n",
            "            \"entity\": {\n",
            "                \"title\": \"The Funeral Industry is a Killer\",\n",
            "                \"publication\": \"The Startup\",\n",
            "                \"claps\": 407\n",
            "            }\n",
            "        },\n",
            "        {\n",
            "            \"id\": 111,\n",
            "            \"distance\": -0.6888885498046875,\n",
            "            \"entity\": {\n",
            "                \"title\": \"The role of AI in web-based ADA and WCAG compliance\",\n",
            "                \"publication\": \"Towards Data Science\",\n",
            "                \"claps\": 935\n",
            "            }\n",
            "        },\n",
            "        {\n",
            "            \"id\": 47,\n",
            "            \"distance\": -0.6680259704589844,\n",
            "            \"entity\": {\n",
            "                \"title\": \"What Happens When the Google Cookie Crumbles?\",\n",
            "                \"publication\": \"The Startup\",\n",
            "                \"claps\": 203\n",
            "            }\n",
            "        },\n",
            "        {\n",
            "            \"id\": 135,\n",
            "            \"distance\": -0.6597772836685181,\n",
            "            \"entity\": {\n",
            "                \"title\": \"How to Manage Risk as a Product Manager\",\n",
            "                \"publication\": \"The Startup\",\n",
            "                \"claps\": 120\n",
            "            }\n",
            "        },\n",
            "        {\n",
            "            \"id\": 174,\n",
            "            \"distance\": -0.6502071619033813,\n",
            "            \"entity\": {\n",
            "                \"title\": \"I Thought Suicide was Selfish Until I Wanted to Die\",\n",
            "                \"publication\": \"The Startup\",\n",
            "                \"claps\": 319\n",
            "            }\n",
            "        },\n",
            "        {\n",
            "            \"id\": 7,\n",
            "            \"distance\": -0.6361640095710754,\n",
            "            \"entity\": {\n",
            "                \"title\": \"Building Comprehensible Customer Churn Prediction Models\",\n",
            "                \"publication\": \"The Startup\",\n",
            "                \"claps\": 261\n",
            "            }\n",
            "        },\n",
            "        {\n",
            "            \"id\": 181,\n",
            "            \"distance\": -0.6355971693992615,\n",
            "            \"entity\": {\n",
            "                \"title\": \"It\\u2019s OK to Admit You\\u2019re Writing For Money\",\n",
            "                \"publication\": \"The Startup\",\n",
            "                \"claps\": 626\n",
            "            }\n",
            "        },\n",
            "        {\n",
            "            \"id\": 131,\n",
            "            \"distance\": -0.6312845349311829,\n",
            "            \"entity\": {\n",
            "                \"title\": \"Undocumented startActivityForResult behavior for Fragment\",\n",
            "                \"publication\": \"The Startup\",\n",
            "                \"claps\": 429\n",
            "            }\n",
            "        }\n",
            "    ]\n",
            "]\n"
          ]
        }
      ],
      "source": [
        "# Search with filters\n",
        "res = client.search(\n",
        "  collection_name=\"medium_articles_2020\",\n",
        "  data=[data[\"rows\"][0][\"title_vector\"]],\n",
        "  filter='claps > 100 and publication in [\"The Startup\", \"Towards Data Science\"]',\n",
        "  output_fields=[\"title\", \"claps\", \"publication\"]\n",
        ")\n",
        "\n",
        "print(json.dumps(res, indent=4))"
      ]
    },
    {
      "cell_type": "markdown",
      "id": "7ef3d837-d263-4a7c-a102-b5db54016bc0",
      "metadata": {
        "id": "7ef3d837-d263-4a7c-a102-b5db54016bc0"
      },
      "source": [
        "## Perform a query\n",
        "\n",
        "All fields, except for the **vector** field, are scalar fields. You can define a filter condition against scalar fields to fetch the entities you need.\n",
        "\n",
        "Here is an example of a query."
      ]
    },
    {
      "cell_type": "code",
      "execution_count": null,
      "id": "fe53ac66-13c3-455d-8c12-29b1221e19cf",
      "metadata": {
        "colab": {
          "base_uri": "https://localhost:8080/"
        },
        "id": "fe53ac66-13c3-455d-8c12-29b1221e19cf",
        "outputId": "5eadee87-560f-4f1f-fc07-e300d2c71989"
      },
      "outputs": [
        {
          "output_type": "stream",
          "name": "stdout",
          "text": [
            "[{'title': 'The Reported Mortality Rate of Coronavirus Is Not Important', 'publication': 'The Startup', 'claps': 1100, 'id': 0}, {'title': 'Dashboards in Python: 3 Advanced Examples for Dash Beginners and Everyone Else', 'publication': 'The Startup', 'claps': 726, 'id': 1}, {'title': 'How Can We Best Switch in Python?', 'publication': 'The Startup', 'claps': 500, 'id': 2}]\n"
          ]
        }
      ],
      "source": [
        "res = client.query(\n",
        "    collection_name=\"medium_articles_2020\",\n",
        "    filter='claps > 100 and publication in [\\\"The Startup\\\", \\\"Towards Data Science\\\"]',\n",
        "    limit=3,\n",
        "    output_fields=[\"title\", \"claps\", \"publication\"]\n",
        ")\n",
        "\n",
        "print(res)"
      ]
    },
    {
      "cell_type": "markdown",
      "id": "5f7718d0-244b-400d-9bf2-2ca04524e937",
      "metadata": {
        "id": "5f7718d0-244b-400d-9bf2-2ca04524e937"
      },
      "source": [
        "## Get entities by IDs\n",
        "\n",
        "In some cases, you may want to get specific entities based on their IDs. This is where the get operation comes into play.\n",
        "Here are some examples of getting entities by IDs."
      ]
    },
    {
      "cell_type": "code",
      "execution_count": null,
      "id": "a2d154e2-b10f-49a9-9b5d-d2c137716904",
      "metadata": {
        "colab": {
          "base_uri": "https://localhost:8080/"
        },
        "id": "a2d154e2-b10f-49a9-9b5d-d2c137716904",
        "outputId": "36306aa0-096d-4f90-90f6-f7e6cee0da91"
      },
      "outputs": [
        {
          "output_type": "stream",
          "name": "stdout",
          "text": [
            "[{'id': 1, 'title': 'Dashboards in Python: 3 Advanced Examples for Dash Beginners and Everyone Else', 'link': 'https://medium.com/swlh/dashboards-in-python-3-advanced-examples-for-dash-beginners-and-everyone-else-b1daf4e2ec0a', 'reading_time': 14, 'publication': 'The Startup', 'claps': 726, 'responses': 3, 'vector': [0.0039737443, 0.003020432, -0.0006188639, 0.03913546, -0.00089768134, 0.021238148, 0.014454661, 0.025742851, 0.0022063442, -0.051130578, -0.0010897011, 0.038453076, 0.011593861, -0.046852026, 0.0064208573, 0.010120634, -0.023668954, 0.041229635, 0.008146385, -0.023367394, -0.029139837, -0.023222756, -0.016318452, -0.076287195, 0.035851076, 0.044926822, 0.0037161126, 0.024241403, -0.024827085, -0.012770665, 0.0018561907, 0.047921725, -0.030281143, -0.031129083, -0.038785066, -0.048101038, 0.008587025, -0.0036647166, -0.013043694, -0.044786748, 0.0015023423, -0.02393749, 0.027479807, 0.03407725, -0.011031249, -0.016997544, -0.11140522, -0.0012403706, -0.0116099715, 0.010803051, -0.042221617, 0.071550176, 0.029078195, 0.02936992, -0.016870253, 0.024187507, -0.0064322287, -0.0018420032, -0.010838795, 0.005448679, 0.042049922, 0.015199081, -0.00612731, 0.04651738, -0.0004543191, 0.0018536948, -0.021741537, 0.042303678, -0.016282137, 0.031659417, 0.03347323, -0.05687932, -0.04784338, 0.047716856, -0.04012971, -0.024161791, -0.015605036, 0.01364975, 0.023177518, 0.01887649, 0.040253926, 0.021470893, 0.09768697, -0.032784328, 0.03222924, 0.03559948, -0.0028161134, 0.03687029, -0.013814558, -0.009652667, 0.021593641, -0.05943368, 0.026042875, 0.028282177, 0.007687183, 0.020226369, -0.0016281981, -0.008526736, 0.025751492, -0.003104332, -0.0061201006, 0.02595484, -0.021449475, -0.014293144, -0.029449001, 0.0020593074, -0.034804724, -0.022180008, -0.006285631, 0.013707787, -0.037423145, -0.009107584, -0.009432007, 0.010610414, -0.056727782, 0.0233536, -0.0060632285, 0.055170756, 0.015278058, -0.0074357074, 0.038479842, 0.07088861, 0.06036749, 0.015448346, 0.024050185, 0.015041763, 0.022847643, 0.018183885, 0.047313735, 0.026332416, -0.002408156, 0.04366259, 0.0057872427, -0.02127312, -0.020023786, -0.02634593, 0.028322363, 0.020426102, 0.026535949, 0.031108813, -0.03800821, -0.016794013, -0.0022405083, -0.028002623, 0.013555326, -0.020880137, -0.040561143, -0.024379047, -0.058721762, 0.009864129, -0.0060728258, 0.019879017, -0.027474888, 0.004868736, -0.01618118, 0.07627549, -0.009566949, -0.0362882, -0.0013981637, 0.00036380984, 0.025276562, 0.061608184, -0.048915602, -0.043986745, -0.0055106534, -0.03694729, 0.0018953384, 0.0063064545, 0.010227479, -0.0068412647, -0.011093203, -0.0093250135, -0.019277632, 0.026233265, 0.009567129, 0.008851426, 0.01565083, 0.02383659, 0.058387164, 0.007578936, -0.039052304, -0.020484922, 0.041768145, -0.038177934, 0.032690376, -0.0088214185, 0.040147487, 0.015718441, -0.026545178, -0.023138655, -0.055501554, -0.06176257, 0.01347796, -0.043426935, 0.09015595, -0.05628449, -0.03414897, 0.077925004, 0.039848283, 0.004569112, -0.021932716, -0.008975595, 0.032322578, 0.0011694044, -0.008094395, 0.013524566, -0.010504273, -0.008891303, -0.047701288, -0.003401436, -0.006817342, -0.0131783355, 0.013252014, -0.02291292, 0.005158376, -0.005217175, -0.009027178, 0.01674159, 0.0062977904, -0.0021274886, 0.1001569, -0.010145763, 0.00398632, 0.016642937, -0.04561657, -0.00593123, 0.068103015, 0.022859594, 0.055262484, -0.07711217, -0.013573, 0.00793467, -0.00206392, -0.055678505, -0.0027695482, -0.008978216, 0.023205645, 0.010584002, 0.036940057, 0.0055925045, -0.03128972, 0.008169264, 0.002143065, 0.0054644635, 0.007751248, -0.049370192, -0.017171964, 0.012460248, -0.039616507, -0.008905116, -0.029277697, 0.0316178, 0.007783805, -0.046197712, -0.02389374, 0.03949501, 0.012882567, -0.050312858, -0.0025155935, 0.05531826, -0.0060943947, 0.040836193, -0.0057800347, 0.0639973, 0.009591699, -0.05218372, -0.03645041, -0.05206777, 0.053644467, 0.071591765, 0.008294372, 0.0028174156, 0.0048404625, 0.013453085, 0.022866488, -0.06087804, 0.023474297, 0.027761765, -0.040729735, -0.009113696, 0.020109607, 0.010756393, 0.066961266, -0.03530044, -0.0013631586, -0.034647003, 0.03281657, -0.055955954, -0.043759737, -0.014830927, -0.0012740378, 0.053068876, 0.0041171, -0.009249764, 0.04119711, -0.0022221678, 0.008220726, 0.011716879, 0.04751782, -0.021161754, -0.0034890848, 0.017168297, 0.018082855, -0.054346565, 0.01130623, -0.014759945, -0.020925378, -0.011718521, -0.5058962, -0.016079627, -0.05195381, -0.065540574, -0.024114326, 0.0045832954, 0.05303542, -0.040304415, -0.001513657, 0.019103762, 0.008554532, 0.053032935, -0.00915671, -0.009092158, -0.009177251, 0.028371146, 0.028055405, -0.008145964, 0.011927662, 0.027140373, -0.04623, -0.026633251, -0.00019752477, 0.045192443, 0.02449006, 0.013997616, -0.06873905, 0.027910134, 0.003347047, 0.0013439717, 0.034202795, -0.015585498, -0.055015743, 0.00016024683, -0.015891591, -0.021741774, 0.025558911, 0.011084363, 0.014056266, -0.018982887, 0.0016998561, 0.048058353, 0.007829392, 0.0018672302, 0.041273497, -0.039120134, 0.0003624535, -0.0011298673, -0.006326307, 0.032140832, -0.037109844, -0.00041404666, -0.0084530655, 0.0077904286, 0.012144728, -0.03869803, 0.047453202, 0.04121898, -0.032067478, 0.022875102, 0.07410041, -0.024542922, -0.036993448, -0.039777547, 0.0094557, -0.025156112, -0.035101883, -0.048749104, -0.0045563756, -0.006167684, -0.048193872, 0.0017396678, 0.019029584, -0.061944872, 0.050563816, -0.021848006, 0.008817201, 0.010323988, 0.020705162, 0.018577144, -0.048376583, -0.041189134, -0.0047300197, -0.00836772, -0.0052992413, -0.035920832, -0.029942693, 0.028925791, 0.030509083, 0.00738733, 0.124217756, -0.04977689, 0.023752924, 0.027065763, 0.057005685, 0.03732509, 0.069008276, -0.022444589, 0.0035944746, -0.041807327, 0.028195074, -0.011788701, -0.0034672262, -0.014074685, -0.009594197, 0.0018883395, -0.024706602, 0.015436245, 0.054175258, -0.03945695, -0.029252004, -0.006543419, -0.064558335, 0.00635337, 0.014417143, 0.013945442, -0.009091861, 0.0005249867, 0.010337455, -0.009454559, -0.035721924, -0.022774082, -0.031336624, 0.0416093, -0.038794383, -0.008280955, 0.033273164, 0.013371025, -0.0129316645, -0.012368203, 0.022565264, -0.0012145197, 0.01841233, -0.002506566, 0.02414115, -0.047187645, -0.0046407585, 0.032652196, 0.053410284, -0.0365266, -0.0063986774, 0.023949109, 0.010821287, 0.013743939, 0.04780526, 0.008855356, -0.028712442, 0.010830425, -0.0039607813, 0.022576412, -0.009031381, -0.04623192, 0.0140510835, 0.009459673, -0.0033195931, 0.02447672, 0.025940116, 0.015182389, -0.03030254, -0.042433836, 0.043204527, -0.009033531, -0.09083154, -0.00031694994, 0.030156016, -0.030984623, -0.031595454, 0.002228252, -0.003698093, -0.006667667, 0.023925511, -0.045642223, -0.0054936595, -0.020487037, -0.011321221, -0.008023139, -0.0022487226, 0.016701572, -0.004573161, -0.0076336027, -0.007048531, -0.03015078, 0.03309948, 0.028124114, 0.014135684, 0.009500284, -0.0033359944, 0.017857917, 0.034960285, 0.005099243, 0.021408139, -0.0065242476, 0.03559723, 0.002711937, -0.028567772, -0.044500142, 0.025019938, 0.020869007, -0.023909464, -0.06710058, -0.04702157, -0.012781483, -0.03416069, 0.009026116, 0.016877936, -0.015858926, 0.0432861, 0.029753765, -0.016831696, -0.04155155, -0.056399744, -0.0632834, -0.030745849, -0.023681961, -0.02031578, -0.006460313, 0.009156013, -0.03944369, -0.05559119, 0.011855634, 0.0043062386, -0.026944742, -0.05057878, -0.033390008, 0.0012567446, 0.00859911, 0.031703074, -0.024424741, 0.011032831, -0.03794956, -0.0058376114, 0.050361525, 0.02664676, 0.035737876, 9.327007e-05, -0.0036208995, -0.07552407, 0.008858675, 0.06525408, -0.03309569, -0.019470563, 0.029411364, -0.023945473, -0.02741788, 0.025530888, -0.004085135, -0.023078475, -0.05026493, -0.047704235, 0.0063968995, 0.05705471, -0.039139755, -0.016409663, -0.050894372, 0.0229268, 0.024625905, -0.020794865, -0.018509613, -0.0286961, 0.02955773, -0.012118265, 0.007289678, -0.017907536, -9.589148e-05, -0.014387568, 0.01077215, -0.0057492387, -0.070152126, 0.011277187, -0.06932382, 0.0064085126, -0.002137664, 0.020172758, 0.018431762, 0.02997658, -0.035457257, -0.027747527, 0.023011072, 0.0044074785, 0.022357704, -0.011456843, -0.014637661, 0.028279554, -0.018716238, 0.03532025, 0.003035383, 0.028103184, -0.026085945, -0.012884989, 0.024874324, 0.0021957066, 0.038837254, -0.013919544, 0.021001196, -0.006413539, 0.03233318, 0.054959916, 0.002057221, -0.008223584, 0.02089053, 0.031112751, 0.06568271, 0.07437756, -0.032314405, 0.0063390816, 0.021723315, 0.009370877, -0.019755581, -0.009407542, 0.008717818, -0.012684821, -0.015996328, 0.019934947, 0.05044348, -0.03040645, -0.0076975147, 0.013472682, -0.04469578, 0.059487574, 0.0077290037, -0.0062347664, 0.017982362, 0.047718633, -0.029480672, -0.049545363, 0.019446652, -0.012957434, 0.021308606, 0.0034625032, 0.016427478, 0.062390056, 0.074961245, -0.0017664412, -0.0374053, 0.006156502, -0.023779914, 0.022087418, -0.0018362328, 0.036417086, -0.031101517, 0.03615886, 0.0011009142, -0.009626947, 0.0020367356, -0.024929306, 0.05029518, 0.01021691, 0.02706921, -0.055606462, 0.050653223, -0.020299971, 0.022907283, -0.0078015765, 0.0013674265, -0.016805433, -0.005469926, -0.010843944, 0.024753453, 0.0036051865, 0.021984477, 0.019608894, 0.056622125, 0.0168941, 5.6558e-05, -0.037705585, 0.010488043, 0.055042468, -0.012437194, 0.017340036, 0.008242167, -0.032131612, 0.046392333, -0.050994188, 0.013369047, -0.031277575, -0.057127792, 0.026656566, 0.012472042, 0.03171042, 0.0155100925, -0.014371186, -0.0074701216, -0.03548123, -0.019203192, 0.020641252, 0.037671227, -0.050689723, 0.012942378, -0.010964106, -0.009750868, -0.032187466, -0.030583298, 0.031428117, -0.030721085, -0.009199497, -0.025520792, -0.016073162, 0.03206433, 0.035993624, 0.005494608, -0.02187293, 0.026701238, -0.013911904, -0.0024700807, -0.013015862, 0.041535176, -0.032522723, 0.0139125, -0.043542273, -0.02516857, 0.0098249065, 0.018275063, 0.0026843066, 0.009207035, -0.0024260108, 0.014267937, 0.04338487, -0.006479658, 0.026931532, -0.013153546, -0.032537226, -0.012409599, 0.03284542, -0.014427827, 0.00090851216, 0.034384534, 0.0022898254, 0.013645849, -0.0264273, 0.04843669, -0.037393637, -0.026378367, -0.03421471, 0.023813134, -0.037445217, -0.018552892, 0.006716699, 0.033491645, 0.046465095, -0.024037533, -0.027822671, 0.017161718, -0.0103931315, 0.043290958, -0.04675785, 0.045929935, -0.07786675, -0.033439267, -0.07128675, 0.009419761, -0.0013642106, -0.022022273, -0.019086521, -0.0038238734, -0.0007658402, -0.0077877254, 0.035752963, -0.031361237, -0.0020773965, 0.021713957]}]\n"
          ]
        }
      ],
      "source": [
        "# Get a single entity by its ID\n",
        "\n",
        "res = client.get(\n",
        "    collection_name=\"medium_articles_2020\",\n",
        "    ids=1\n",
        ")\n",
        "\n",
        "print(res)"
      ]
    },
    {
      "cell_type": "code",
      "execution_count": null,
      "id": "abd3385e-7e31-42b5-9e12-63415061c4f9",
      "metadata": {
        "colab": {
          "base_uri": "https://localhost:8080/"
        },
        "id": "abd3385e-7e31-42b5-9e12-63415061c4f9",
        "outputId": "13ed2326-7014-4915-983e-4212363ef5a1"
      },
      "outputs": [
        {
          "output_type": "stream",
          "name": "stdout",
          "text": [
            "[{'title': 'Dashboards in Python: 3 Advanced Examples for Dash Beginners and Everyone Else', 'link': 'https://medium.com/swlh/dashboards-in-python-3-advanced-examples-for-dash-beginners-and-everyone-else-b1daf4e2ec0a', 'reading_time': 14, 'publication': 'The Startup', 'claps': 726, 'responses': 3, 'vector': [0.0039737443, 0.003020432, -0.0006188639, 0.03913546, -0.00089768134, 0.021238148, 0.014454661, 0.025742851, 0.0022063442, -0.051130578, -0.0010897011, 0.038453076, 0.011593861, -0.046852026, 0.0064208573, 0.010120634, -0.023668954, 0.041229635, 0.008146385, -0.023367394, -0.029139837, -0.023222756, -0.016318452, -0.076287195, 0.035851076, 0.044926822, 0.0037161126, 0.024241403, -0.024827085, -0.012770665, 0.0018561907, 0.047921725, -0.030281143, -0.031129083, -0.038785066, -0.048101038, 0.008587025, -0.0036647166, -0.013043694, -0.044786748, 0.0015023423, -0.02393749, 0.027479807, 0.03407725, -0.011031249, -0.016997544, -0.11140522, -0.0012403706, -0.0116099715, 0.010803051, -0.042221617, 0.071550176, 0.029078195, 0.02936992, -0.016870253, 0.024187507, -0.0064322287, -0.0018420032, -0.010838795, 0.005448679, 0.042049922, 0.015199081, -0.00612731, 0.04651738, -0.0004543191, 0.0018536948, -0.021741537, 0.042303678, -0.016282137, 0.031659417, 0.03347323, -0.05687932, -0.04784338, 0.047716856, -0.04012971, -0.024161791, -0.015605036, 0.01364975, 0.023177518, 0.01887649, 0.040253926, 0.021470893, 0.09768697, -0.032784328, 0.03222924, 0.03559948, -0.0028161134, 0.03687029, -0.013814558, -0.009652667, 0.021593641, -0.05943368, 0.026042875, 0.028282177, 0.007687183, 0.020226369, -0.0016281981, -0.008526736, 0.025751492, -0.003104332, -0.0061201006, 0.02595484, -0.021449475, -0.014293144, -0.029449001, 0.0020593074, -0.034804724, -0.022180008, -0.006285631, 0.013707787, -0.037423145, -0.009107584, -0.009432007, 0.010610414, -0.056727782, 0.0233536, -0.0060632285, 0.055170756, 0.015278058, -0.0074357074, 0.038479842, 0.07088861, 0.06036749, 0.015448346, 0.024050185, 0.015041763, 0.022847643, 0.018183885, 0.047313735, 0.026332416, -0.002408156, 0.04366259, 0.0057872427, -0.02127312, -0.020023786, -0.02634593, 0.028322363, 0.020426102, 0.026535949, 0.031108813, -0.03800821, -0.016794013, -0.0022405083, -0.028002623, 0.013555326, -0.020880137, -0.040561143, -0.024379047, -0.058721762, 0.009864129, -0.0060728258, 0.019879017, -0.027474888, 0.004868736, -0.01618118, 0.07627549, -0.009566949, -0.0362882, -0.0013981637, 0.00036380984, 0.025276562, 0.061608184, -0.048915602, -0.043986745, -0.0055106534, -0.03694729, 0.0018953384, 0.0063064545, 0.010227479, -0.0068412647, -0.011093203, -0.0093250135, -0.019277632, 0.026233265, 0.009567129, 0.008851426, 0.01565083, 0.02383659, 0.058387164, 0.007578936, -0.039052304, -0.020484922, 0.041768145, -0.038177934, 0.032690376, -0.0088214185, 0.040147487, 0.015718441, -0.026545178, -0.023138655, -0.055501554, -0.06176257, 0.01347796, -0.043426935, 0.09015595, -0.05628449, -0.03414897, 0.077925004, 0.039848283, 0.004569112, -0.021932716, -0.008975595, 0.032322578, 0.0011694044, -0.008094395, 0.013524566, -0.010504273, -0.008891303, -0.047701288, -0.003401436, -0.006817342, -0.0131783355, 0.013252014, -0.02291292, 0.005158376, -0.005217175, -0.009027178, 0.01674159, 0.0062977904, -0.0021274886, 0.1001569, -0.010145763, 0.00398632, 0.016642937, -0.04561657, -0.00593123, 0.068103015, 0.022859594, 0.055262484, -0.07711217, -0.013573, 0.00793467, -0.00206392, -0.055678505, -0.0027695482, -0.008978216, 0.023205645, 0.010584002, 0.036940057, 0.0055925045, -0.03128972, 0.008169264, 0.002143065, 0.0054644635, 0.007751248, -0.049370192, -0.017171964, 0.012460248, -0.039616507, -0.008905116, -0.029277697, 0.0316178, 0.007783805, -0.046197712, -0.02389374, 0.03949501, 0.012882567, -0.050312858, -0.0025155935, 0.05531826, -0.0060943947, 0.040836193, -0.0057800347, 0.0639973, 0.009591699, -0.05218372, -0.03645041, -0.05206777, 0.053644467, 0.071591765, 0.008294372, 0.0028174156, 0.0048404625, 0.013453085, 0.022866488, -0.06087804, 0.023474297, 0.027761765, -0.040729735, -0.009113696, 0.020109607, 0.010756393, 0.066961266, -0.03530044, -0.0013631586, -0.034647003, 0.03281657, -0.055955954, -0.043759737, -0.014830927, -0.0012740378, 0.053068876, 0.0041171, -0.009249764, 0.04119711, -0.0022221678, 0.008220726, 0.011716879, 0.04751782, -0.021161754, -0.0034890848, 0.017168297, 0.018082855, -0.054346565, 0.01130623, -0.014759945, -0.020925378, -0.011718521, -0.5058962, -0.016079627, -0.05195381, -0.065540574, -0.024114326, 0.0045832954, 0.05303542, -0.040304415, -0.001513657, 0.019103762, 0.008554532, 0.053032935, -0.00915671, -0.009092158, -0.009177251, 0.028371146, 0.028055405, -0.008145964, 0.011927662, 0.027140373, -0.04623, -0.026633251, -0.00019752477, 0.045192443, 0.02449006, 0.013997616, -0.06873905, 0.027910134, 0.003347047, 0.0013439717, 0.034202795, -0.015585498, -0.055015743, 0.00016024683, -0.015891591, -0.021741774, 0.025558911, 0.011084363, 0.014056266, -0.018982887, 0.0016998561, 0.048058353, 0.007829392, 0.0018672302, 0.041273497, -0.039120134, 0.0003624535, -0.0011298673, -0.006326307, 0.032140832, -0.037109844, -0.00041404666, -0.0084530655, 0.0077904286, 0.012144728, -0.03869803, 0.047453202, 0.04121898, -0.032067478, 0.022875102, 0.07410041, -0.024542922, -0.036993448, -0.039777547, 0.0094557, -0.025156112, -0.035101883, -0.048749104, -0.0045563756, -0.006167684, -0.048193872, 0.0017396678, 0.019029584, -0.061944872, 0.050563816, -0.021848006, 0.008817201, 0.010323988, 0.020705162, 0.018577144, -0.048376583, -0.041189134, -0.0047300197, -0.00836772, -0.0052992413, -0.035920832, -0.029942693, 0.028925791, 0.030509083, 0.00738733, 0.124217756, -0.04977689, 0.023752924, 0.027065763, 0.057005685, 0.03732509, 0.069008276, -0.022444589, 0.0035944746, -0.041807327, 0.028195074, -0.011788701, -0.0034672262, -0.014074685, -0.009594197, 0.0018883395, -0.024706602, 0.015436245, 0.054175258, -0.03945695, -0.029252004, -0.006543419, -0.064558335, 0.00635337, 0.014417143, 0.013945442, -0.009091861, 0.0005249867, 0.010337455, -0.009454559, -0.035721924, -0.022774082, -0.031336624, 0.0416093, -0.038794383, -0.008280955, 0.033273164, 0.013371025, -0.0129316645, -0.012368203, 0.022565264, -0.0012145197, 0.01841233, -0.002506566, 0.02414115, -0.047187645, -0.0046407585, 0.032652196, 0.053410284, -0.0365266, -0.0063986774, 0.023949109, 0.010821287, 0.013743939, 0.04780526, 0.008855356, -0.028712442, 0.010830425, -0.0039607813, 0.022576412, -0.009031381, -0.04623192, 0.0140510835, 0.009459673, -0.0033195931, 0.02447672, 0.025940116, 0.015182389, -0.03030254, -0.042433836, 0.043204527, -0.009033531, -0.09083154, -0.00031694994, 0.030156016, -0.030984623, -0.031595454, 0.002228252, -0.003698093, -0.006667667, 0.023925511, -0.045642223, -0.0054936595, -0.020487037, -0.011321221, -0.008023139, -0.0022487226, 0.016701572, -0.004573161, -0.0076336027, -0.007048531, -0.03015078, 0.03309948, 0.028124114, 0.014135684, 0.009500284, -0.0033359944, 0.017857917, 0.034960285, 0.005099243, 0.021408139, -0.0065242476, 0.03559723, 0.002711937, -0.028567772, -0.044500142, 0.025019938, 0.020869007, -0.023909464, -0.06710058, -0.04702157, -0.012781483, -0.03416069, 0.009026116, 0.016877936, -0.015858926, 0.0432861, 0.029753765, -0.016831696, -0.04155155, -0.056399744, -0.0632834, -0.030745849, -0.023681961, -0.02031578, -0.006460313, 0.009156013, -0.03944369, -0.05559119, 0.011855634, 0.0043062386, -0.026944742, -0.05057878, -0.033390008, 0.0012567446, 0.00859911, 0.031703074, -0.024424741, 0.011032831, -0.03794956, -0.0058376114, 0.050361525, 0.02664676, 0.035737876, 9.327007e-05, -0.0036208995, -0.07552407, 0.008858675, 0.06525408, -0.03309569, -0.019470563, 0.029411364, -0.023945473, -0.02741788, 0.025530888, -0.004085135, -0.023078475, -0.05026493, -0.047704235, 0.0063968995, 0.05705471, -0.039139755, -0.016409663, -0.050894372, 0.0229268, 0.024625905, -0.020794865, -0.018509613, -0.0286961, 0.02955773, -0.012118265, 0.007289678, -0.017907536, -9.589148e-05, -0.014387568, 0.01077215, -0.0057492387, -0.070152126, 0.011277187, -0.06932382, 0.0064085126, -0.002137664, 0.020172758, 0.018431762, 0.02997658, -0.035457257, -0.027747527, 0.023011072, 0.0044074785, 0.022357704, -0.011456843, -0.014637661, 0.028279554, -0.018716238, 0.03532025, 0.003035383, 0.028103184, -0.026085945, -0.012884989, 0.024874324, 0.0021957066, 0.038837254, -0.013919544, 0.021001196, -0.006413539, 0.03233318, 0.054959916, 0.002057221, -0.008223584, 0.02089053, 0.031112751, 0.06568271, 0.07437756, -0.032314405, 0.0063390816, 0.021723315, 0.009370877, -0.019755581, -0.009407542, 0.008717818, -0.012684821, -0.015996328, 0.019934947, 0.05044348, -0.03040645, -0.0076975147, 0.013472682, -0.04469578, 0.059487574, 0.0077290037, -0.0062347664, 0.017982362, 0.047718633, -0.029480672, -0.049545363, 0.019446652, -0.012957434, 0.021308606, 0.0034625032, 0.016427478, 0.062390056, 0.074961245, -0.0017664412, -0.0374053, 0.006156502, -0.023779914, 0.022087418, -0.0018362328, 0.036417086, -0.031101517, 0.03615886, 0.0011009142, -0.009626947, 0.0020367356, -0.024929306, 0.05029518, 0.01021691, 0.02706921, -0.055606462, 0.050653223, -0.020299971, 0.022907283, -0.0078015765, 0.0013674265, -0.016805433, -0.005469926, -0.010843944, 0.024753453, 0.0036051865, 0.021984477, 0.019608894, 0.056622125, 0.0168941, 5.6558e-05, -0.037705585, 0.010488043, 0.055042468, -0.012437194, 0.017340036, 0.008242167, -0.032131612, 0.046392333, -0.050994188, 0.013369047, -0.031277575, -0.057127792, 0.026656566, 0.012472042, 0.03171042, 0.0155100925, -0.014371186, -0.0074701216, -0.03548123, -0.019203192, 0.020641252, 0.037671227, -0.050689723, 0.012942378, -0.010964106, -0.009750868, -0.032187466, -0.030583298, 0.031428117, -0.030721085, -0.009199497, -0.025520792, -0.016073162, 0.03206433, 0.035993624, 0.005494608, -0.02187293, 0.026701238, -0.013911904, -0.0024700807, -0.013015862, 0.041535176, -0.032522723, 0.0139125, -0.043542273, -0.02516857, 0.0098249065, 0.018275063, 0.0026843066, 0.009207035, -0.0024260108, 0.014267937, 0.04338487, -0.006479658, 0.026931532, -0.013153546, -0.032537226, -0.012409599, 0.03284542, -0.014427827, 0.00090851216, 0.034384534, 0.0022898254, 0.013645849, -0.0264273, 0.04843669, -0.037393637, -0.026378367, -0.03421471, 0.023813134, -0.037445217, -0.018552892, 0.006716699, 0.033491645, 0.046465095, -0.024037533, -0.027822671, 0.017161718, -0.0103931315, 0.043290958, -0.04675785, 0.045929935, -0.07786675, -0.033439267, -0.07128675, 0.009419761, -0.0013642106, -0.022022273, -0.019086521, -0.0038238734, -0.0007658402, -0.0077877254, 0.035752963, -0.031361237, -0.0020773965, 0.021713957], 'id': 1}, {'title': 'How Can We Best Switch in Python?', 'link': 'https://medium.com/swlh/how-can-we-best-switch-in-python-458fb33f7835', 'reading_time': 6, 'publication': 'The Startup', 'claps': 500, 'responses': 7, 'vector': [0.031961977, 0.00047043373, -0.018263113, 0.027324716, -0.0054595284, -0.014779159, 0.017511465, 0.030381083, -0.018930407, -0.03372473, -0.009049301, 0.05401713, -0.030117748, -0.05029242, -0.004565209, -0.013697411, 0.0091306195, 0.020263411, 0.022377398, -0.013710004, 0.00041742, 0.0196022, -0.03045922, -0.009036885, 0.015411235, -0.010344614, 0.025562054, 0.017688023, -0.030953526, -0.016898274, 0.026576879, 0.027959209, -0.003575494, -0.021995515, -0.013143332, -0.008411754, 0.015792666, -0.007804189, 0.011127249, -0.018469824, 0.000866601, -0.0047294814, 0.023057077, 0.024769971, 0.006347016, -0.0053651906, -0.10139431, 0.009744879, -0.004652395, 0.004365174, -0.055456053, 0.03606845, -0.00094139896, 0.01640304, -0.01252126, 0.007557613, -0.021284489, -0.007097941, -0.02953809, 0.012779461, 0.01165686, 0.017842839, -0.051064152, 0.02416306, 0.0010631426, 0.04505233, -0.010680273, 0.03516956, -0.032654032, 0.0048729796, 0.04184754, -0.022647992, -0.05048803, 0.017783897, -0.006307326, -0.0036616833, -0.03680091, -0.002489206, 0.010861639, 0.01722319, -0.0085470015, 0.052702323, 0.045617685, -0.03452536, 0.07228468, -0.0032563882, 0.0072233807, 0.039652966, 0.013009299, -0.00073530525, -0.029937685, -0.015898889, 0.017194541, 0.041268878, 0.03691164, 0.0021090403, -0.0044218805, -0.0003518283, 0.03208571, 0.03872059, -0.015585088, -0.031691972, -0.027204208, -0.027799087, -0.03140582, -0.024144609, -0.029131236, -0.0006166679, -0.010534395, -0.053412274, -0.026039477, 0.02327985, 0.002468529, -0.015971841, -0.03870977, 0.0015068256, 0.029168412, 0.025979232, -0.00014848322, 0.023480166, 0.022882162, 0.1086864, 0.04039409, 0.04686041, 0.030854652, 0.0011865695, 0.023846114, 0.03404549, 0.027745683, -0.011852315, 0.02592257, 0.09672646, 0.04493555, -0.027386012, -0.015208758, -0.02407686, 0.004940932, 0.03843349, 0.009353459, -9.5053925e-05, -0.034731977, 0.011731949, -0.082125075, 0.034289576, 0.046927046, 0.036367156, -0.020566383, -0.011743045, 0.005362335, 0.014873384, -0.041561183, 0.027565314, -0.047460195, 0.028267229, -0.02931979, 0.043748844, -0.008986446, -0.036197904, -0.0039762477, 0.00384613, 0.026702058, -0.013507277, -0.018546203, -0.038978007, 0.008370236, -0.059048153, -0.0088269655, 0.030615881, 0.061521176, 0.040141247, -0.042904384, -0.0017646506, -0.012129865, -0.025165217, -0.007414848, -0.03211762, 0.016645478, -0.003678877, 0.02817977, 0.033541426, -0.030827818, 0.014391739, -0.016986696, -0.009304953, 0.010068301, 0.0012533539, 0.054744214, -0.03355412, -0.0126412, 0.006665331, -0.051595133, -0.026037361, 0.024609802, -0.03966661, 0.08104592, -0.011226513, -0.04584874, 0.055855907, 0.024856847, 0.04370813, 0.00019327056, -0.0014419332, 0.02126272, -0.015198758, -0.028715013, 0.1175778, 0.0018902348, 0.00060474704, -0.018893233, 0.014306088, -0.0014934064, 0.01141921, 0.0011305047, -0.04216744, -0.022631632, 0.021396926, -0.0014329525, -0.019445604, 0.013686111, 0.01649869, 0.06171409, -0.021276126, 0.0263158, 0.03875992, -0.028981235, 0.05266261, 0.054521, 0.037886284, 0.044632472, -0.05402573, -0.05315056, -0.010329648, 0.0055773426, -0.0045997864, -0.025924252, -0.0019360946, -0.0008645076, -0.03587916, 0.0061763, 0.036449447, 0.01495319, 0.012858187, -0.007967018, 0.039387755, -0.013221118, 0.0036750333, -0.01904389, -0.00033562203, 0.011822021, -0.007844666, 0.010633819, 0.031686552, 0.013216273, -0.06986176, -0.0050058817, 0.03312041, -0.008020069, -0.007771589, -0.01182697, 0.042453192, -0.03915573, 0.020194814, -0.00954806, 0.014636779, -0.0020046192, -0.023423301, -0.030332584, -0.0628702, 0.0472391, 0.012135565, 0.026438866, -0.01713713, -0.023381876, -0.13993254, 0.029665118, -0.036457572, 0.011218912, 0.038330603, -0.056250863, -0.03564765, -0.023168502, 0.06854669, 0.01736419, -0.005506834, -0.023775242, 0.0006358431, 0.008166359, -0.044492476, -0.02230922, -0.029222934, 0.006484247, -0.00048863835, -0.037827164, -0.026856521, 0.03414912, 0.006874869, -0.012198071, 0.00081886543, 0.00741021, -0.010242518, -0.0132256355, 0.015110306, 0.0155827785, 0.0049608652, 0.011982397, -0.0037450858, -0.040991265, 0.006001457, -0.48184368, -0.014675001, -0.019399617, -0.00050807477, -0.020829525, 0.010311649, 0.0091862045, -0.048885785, 0.035956666, 0.013535662, -0.018462244, 0.050372835, -0.02836579, 0.033545148, -0.0005632335, 0.007023988, 0.044697817, -0.002525599, 0.025722712, 0.019185606, -0.031526912, 0.031805854, 0.03019657, 0.011702875, 0.0072402623, 0.034088686, -0.055395007, 0.0133933285, 0.010695204, -0.022150824, -0.009092343, -0.020708743, 0.014677717, -0.02691326, -0.041022483, -0.010728332, 0.05170642, 0.009286708, 0.010499943, 0.010623252, -0.007898877, 0.026833422, 0.020545354, 0.0045525357, 0.026015494, 0.0013438065, -0.008843245, -0.03299382, 0.0036264951, 0.0631423, -0.043489218, -0.0067020636, 0.08263549, 0.02432318, -0.0018398056, -0.035592306, 0.037945632, 0.02471174, 0.018099476, 0.008289202, 0.057471566, -0.034602158, -0.0030834016, -0.077851646, 0.000621722, -0.010408296, -0.01503258, -0.021677738, 0.035202455, 0.02111145, -0.059643175, -0.008791222, -0.0049411054, -0.06235482, 0.05213403, -7.3968346e-05, -0.042797476, 0.025670705, 0.031570684, 0.005316893, -0.036642972, -0.045712292, -0.031201003, 0.0013435282, -0.000494309, -0.03169252, -0.020528838, 0.01809954, -0.019055236, 0.03645839, 0.06659739, -0.030998535, -0.011546504, 0.045022737, 0.04093621, 0.0534356, 0.060189668, -0.068081446, -0.0048630824, -0.022713043, 0.028602442, -0.043265317, -0.04292418, -0.021301687, -0.012547421, 0.0079896515, -0.016087562, 0.036705207, 0.037259102, -0.02395996, -0.042752225, 0.014155132, -0.025802076, -0.012854622, 0.027047012, 0.033388477, -0.0072962856, -0.030946407, 0.010230067, -0.031012211, -0.018188275, 0.029999569, 0.012055036, 0.020398764, -0.013843629, -0.039526306, 0.020703869, -0.0037418825, -0.0052683037, -0.017438497, -0.02282057, 0.0012672462, 0.0018585115, -0.012557607, -0.010483216, -0.019720279, 0.019221477, 0.04736351, 0.005414666, -0.057573926, -0.0071921526, -0.0001097653, -0.027598547, 0.027446415, -0.008795139, 0.001392441, 0.0012335415, -0.008592807, -0.0432095, 0.021367712, -0.014368737, -0.048905294, 0.03449548, 0.014495232, -0.012759583, 0.002067632, 0.025151605, 0.023311006, 0.053315796, -0.018494522, 0.026421981, -0.0087005105, -0.096432306, -0.0025691572, 0.035672404, -0.05256038, -0.0069832117, -0.01132947, -0.019128852, 0.047870636, -0.017571028, -0.00736777, -0.02712124, 0.0124487365, 0.030766713, -0.0071845357, 0.013875514, -0.0061107697, -0.0118085835, -0.0043757795, 0.035335075, -0.031514447, 0.008930741, 0.060583394, 0.009514371, -0.06121421, -0.0059463717, -0.014056502, -0.00457576, -0.018932668, -0.0047621797, 0.014372747, 0.05434973, -0.0069508883, -0.018155267, -0.01424335, 0.01727908, 0.015375504, -0.0043006744, -0.039005376, 0.0011630051, 0.030958423, -0.0024497176, 0.026296826, 0.032621946, -0.043037336, -0.0062458026, -0.0024066344, -0.025261067, -0.012876287, 0.004674665, -0.062701315, -0.036242086, -0.015491459, -0.033093378, -0.003791472, 0.003521233, 0.015312638, -0.018087002, 0.0007275054, -0.025592119, -0.033027202, 0.0040619876, -0.0049337046, 0.012276444, 0.028485294, -0.0022711728, -0.037957348, 0.026373198, 0.011347564, 0.02729493, -0.012358346, 0.0038525765, 0.045374937, -0.021545382, -0.015508571, -0.011422388, 0.030073423, -0.035008345, -0.045318596, 0.030025236, 0.027738895, -0.010382076, 0.0018489916, -0.051705457, -0.00014905288, -0.01871698, -0.026817072, -0.065421715, -0.009121612, 0.020758322, -0.01539622, -0.0025403304, -0.058611013, 0.03054597, 0.021318326, 0.0027275842, -0.020702, -0.004794398, 0.019018736, -0.012444672, -0.019887973, -0.022113265, 0.023049643, -0.014587576, 0.014351464, 0.029817551, -0.0609792, 0.042052478, -0.055451162, -0.034356594, -0.047547698, -0.01826999, 0.040954057, 0.002969797, -0.056506813, -0.0073451693, -0.02482, 0.03168265, 0.015525525, 0.07468302, 0.01469982, 0.00210511, -0.019698266, -0.00031182918, -0.019210724, 0.041207567, 0.0053758505, 0.009472572, 0.03771915, -0.06461313, 0.04082511, -0.008058872, 0.0012331214, 0.0069069173, 0.0024821213, 0.006390242, 0.0011468151, -0.038794484, -0.063377164, -0.014241851, 0.04237302, 0.06795088, -0.023934761, -0.020242302, 0.02311365, -0.012824183, 0.03533031, -0.008410466, 0.02789391, -0.013549344, 0.022365555, 0.025989164, 0.04313728, -0.028337618, 0.026092393, 0.024711346, -0.052706428, 0.005730622, 0.022862181, -0.0076183174, -0.037243042, 0.052232295, -0.016049191, -0.06881278, 0.031964153, -0.021035925, 0.0138404025, -0.0013810501, 0.016167158, 0.034111433, 0.07161581, -0.025092546, -0.04386276, -0.0040376517, -0.025154384, 0.03385207, 0.015494304, 0.0048881858, 0.016264858, 0.061570168, 0.029936614, -0.01829368, -0.0037140124, -0.02359431, 0.023544896, 0.020937245, -0.0061871763, -0.045603115, 0.053354852, 0.040365223, 0.01763893, -0.020082904, 0.0067172833, 0.008561443, 0.00088409515, 0.0058731064, -0.016091827, 0.021013025, -0.080045305, 0.051248446, 0.051069897, -0.020342922, 0.003785443, -0.023021897, 0.018125402, 0.053128835, 0.007378299, 0.0270741, 0.02051721, -0.038264796, 0.027366923, -0.021771278, 0.027172359, -0.01405901, -0.025535831, -0.026873125, 0.025676413, -0.034890138, 0.009825487, -0.000653567, -0.0041931183, -0.03914068, -0.012084683, 0.021727156, 0.026943136, -0.024454104, 0.014687368, -0.036083054, 0.0052459547, -0.033593263, -0.037296012, -0.00528183, 0.024822053, -0.032910015, 0.013125118, -0.019655148, 0.050365735, 0.0025480876, 0.011558444, 0.02348081, 0.0059274384, 0.021103512, 0.025836773, -0.011869778, 0.024600193, -0.0393065, -0.018619377, -0.03744179, -0.026498258, 0.027013863, 0.039253354, -0.008169781, -0.009831139, -0.002388968, 0.04232686, 0.010924937, -0.034946863, 0.0039843144, 0.014260961, -0.06428069, -0.03166362, 0.024884656, 0.027559036, 0.0057664, 0.007130555, 0.029336175, 0.016878324, -0.02320544, 0.021938594, 0.008355895, -0.007115111, -0.023438789, 0.03528865, -0.009152654, -0.008653632, 0.0082724, -0.0025690612, 0.03129816, -0.007876752, -0.017509712, 0.024677664, 0.0370758, 0.021148562, -0.27696472, 0.0028338798, -0.014097512, -0.019267568, -0.03345135, 0.006941969, 0.010284976, 0.0012813237, -0.007259589, 0.006475924, 0.012507553, 0.033468552, 0.025855746, -0.03161831, 0.0067092087, 0.034458436], 'id': 2}, {'title': 'Maternity leave shouldn’t set women back', 'link': 'https://medium.com/swlh/maternity-leave-shouldnt-set-women-back-5019dd3129d8', 'reading_time': 9, 'publication': 'The Startup', 'claps': 460, 'responses': 1, 'vector': [0.032572296, -0.011148319, -0.01688577, -0.0026665623, -0.011911687, -0.00067226397, 0.00549793, 0.024287743, -0.006913468, 0.0077994824, 0.013071344, 0.006062147, -0.00041493092, 0.01481426, -0.030682443, 0.013120984, 0.025862636, 0.041487154, -0.014245749, -0.058048885, -0.010625249, -0.01598067, -0.0036785838, 0.010256713, 0.030245807, -0.00963591, 0.012134374, -0.0051590772, 0.0043924507, -0.007561836, 0.01516642, -0.020753713, 0.0034143024, 0.013669275, 0.005490576, 0.017562835, 0.012057775, -0.0041135647, -0.018734304, -0.045859236, -0.031178048, -0.017003324, -0.003598447, 0.0242957, -0.007075736, -0.0032088398, -0.13177598, -0.017534051, 0.018921921, -0.01838789, 0.027771048, 0.0015456202, 0.049289543, 0.013153146, 0.009982567, 0.007495207, -0.006537868, 0.039864883, -0.0074611716, -0.018961059, 0.028452348, -0.0055055213, -0.010327955, 0.03025572, 0.010124248, 0.00017489257, -0.012181571, 0.008904939, -0.0071344567, -0.0138013745, -0.03462956, -0.03174249, 0.010804454, -0.029227626, -0.0149894785, -0.004549343, -0.019256292, -0.032823555, 0.034119826, 0.018715482, 0.0051837023, 0.04232697, 0.0009773208, -0.007839318, 0.028020922, -1.209454e-05, -0.0062755486, 0.0040450897, 0.026394641, 0.03909254, -0.007465482, 0.012620972, 0.024803665, 0.022431372, 0.00045528833, 0.012897636, 0.0012552162, 0.006548227, 0.015709685, 0.0052354215, -0.005138931, -0.01680877, 0.008343625, -0.013237123, 0.0077426243, -0.0496547, 0.013154936, -0.01084464, -0.002106462, -0.1831018, -0.014229469, 0.0109098, -0.008046398, -0.0060204724, -0.008753679, 0.009124208, 0.011988616, -0.0007773943, -0.0023279598, -0.003283627, 0.0018423159, 0.029139668, 0.000721349, 0.003930335, 0.00021453066, 0.007143245, 0.01980911, 0.029770127, -0.022179393, -0.0043877023, -0.012645559, 0.046956066, -0.021605939, 0.004067949, -0.00015039448, -0.0016829858, 0.0057822415, 0.019765243, 0.05035865, -0.00096078205, -0.01242688, 0.018297192, -0.22188285, 0.019379117, 0.025544874, -0.030404678, -0.015500559, -0.022684705, -0.0041294973, 0.014327852, 0.0028759474, 0.004617986, 0.0035470987, 0.03767159, -0.010075352, -0.020802172, 0.014924934, -0.014740932, 0.0057360446, 0.009871891, -0.018949838, -0.0029874763, 0.011960203, -0.010134471, -0.0019081723, -0.018822746, 0.011828134, -0.012212165, 0.031565573, 0.01916336, -0.015041111, 0.032839842, -0.006853909, -0.032355513, 0.01285004, 0.009363986, -0.004815402, 0.022669353, -0.0056823054, 0.018240228, -0.019207953, 0.020216666, -0.0024810256, -8.6075175e-05, 0.013288341, -0.0071832845, 0.006693015, 0.011313725, -0.022412464, 0.008998936, -0.021307606, -0.0011712742, 0.02676932, 0.009473092, 0.035663445, -0.02009943, 0.004691693, 0.049093653, 0.0046466053, 0.0037044648, -0.02916, 0.011084903, -0.001554931, 0.003923312, -0.038672894, 0.23191853, -0.0024897608, 0.016398454, 0.0032650905, 0.036638938, 0.033213306, 0.012786949, 0.013819685, -0.004594444, -0.00044839366, 0.004895067, 0.0061114198, 0.0040691793, -0.0004937481, -0.015441313, -0.0025573417, 0.0070072976, 0.035726164, 0.015740236, 0.014273313, -0.013843486, 0.006790653, 0.018293444, 0.01281768, -0.05727281, 0.013891772, 0.013854494, -0.028682474, 0.025087254, -0.0068835695, 0.00062226824, 0.0010486332, -0.007186171, -0.02752195, 0.0051294942, 0.009962464, -0.0025879995, 0.0035628676, 0.049395032, -0.02742397, -0.0102523845, -0.014548299, 0.025887154, -0.03567679, -0.0036470862, 0.009439093, 0.0044599394, 0.024341902, 0.00022952439, -0.019860784, -0.014363859, -0.026036814, -0.00029860248, 0.020489303, -0.022465644, 0.012863796, 0.029071193, -0.0039666463, -0.0024507635, 0.0046789823, 0.0030918675, -0.0314279, -0.010850228, 0.01255252, 0.014185351, 0.019823845, 0.02150741, -0.025307473, -0.28022113, -0.026693877, 0.012146798, 0.022433536, 0.041230336, -0.002859888, 0.013284801, 0.015322505, 0.025753109, 0.025089426, -0.029876988, -0.024758523, -0.0018447168, 0.022422908, -0.028262468, 0.008848979, -0.006154769, -0.0070321164, -0.0030118022, 0.005194388, -0.0027359554, 0.04656754, -0.0037286174, 0.0072700325, 0.003991004, 0.00623481, -0.006786019, 0.003607263, 0.013364083, -0.0009272529, 0.0005084176, -0.0058750194, -0.022518352, -0.0036238928, -0.019861912, -0.32481563, 0.004870411, -0.018401992, -0.0041691717, -0.009805443, -0.021535361, 0.03188253, -0.0137551185, -0.025914717, 0.017961947, -0.018756565, 0.014393992, -0.017426005, 0.008876647, 0.019110389, 0.008063013, 0.015055322, 0.0021711632, 0.010579536, 0.014019544, -0.0015552845, 0.012184884, -0.023442088, 0.02765184, 0.014037092, 0.012709767, -0.009627516, -0.0017915091, -0.033710524, -0.013545058, -0.013931632, -0.0053451676, 0.005913828, -0.022448238, 0.0028342977, 0.005505873, 0.02119994, 0.016239604, -0.0052943705, -0.007231965, -0.013727877, 0.030625625, -0.0022880863, 0.04650449, 0.004564369, -0.0039099115, -0.008855174, -0.02590206, -0.0045455904, 0.028093405, -0.0057742097, 0.019026605, 0.06372142, 0.004049621, -0.03173691, -0.002462099, -0.0050806045, 0.014256259, -0.015794102, 0.0048139845, -0.019662917, -0.0055996785, 0.032722577, -0.023763623, -0.009182622, 0.0036480273, -0.01497658, -0.0041269087, 0.017205523, 0.02244262, -0.012737349, -0.01176147, 0.033802703, -0.057903834, 0.030616833, -0.013102639, -0.021639816, 0.020575883, 0.016768757, -0.007267047, 0.013692055, -0.027107662, 0.011793209, 0.024778523, 0.0022328277, -0.026149785, 0.016758755, 0.007766738, -0.027779283, 0.036444373, -0.007751163, 0.012253668, -0.014375801, 0.020012038, 0.015076053, 0.041242417, -0.015056833, -0.07047811, -0.014168125, -0.005201825, 0.020312743, -0.0025212078, -0.018798586, -0.012980038, 0.0015999586, -0.03152401, -0.011682038, 0.02713701, -0.008685174, -0.024040654, 0.013934839, 0.044255547, 0.00404218, -0.012480787, 0.023011547, -0.009406839, -0.0157792, 0.022630343, -0.011981898, -0.00982671, 0.017702863, -0.008115968, -0.029454565, -0.010375726, 0.020296892, 0.008168459, 0.014563515, -0.009624114, -0.010122963, 0.027097305, 0.014204481, 0.0001903293, -0.0032273293, -0.031862345, -0.02593157, -0.010210523, -0.013440812, 0.04924991, -0.021010127, -0.027123785, -0.017487321, 0.02038897, 0.0074962475, 0.017340386, 0.035381228, 0.005045669, -0.013211605, -0.009748887, -0.025638524, 0.015928162, -0.012081406, -0.017444927, 0.013808245, 0.000332389, 0.011461839, 0.010011938, 0.028913785, 0.010857528, 0.0038173147, -0.033259414, -0.009738983, -0.0018304004, -0.1065831, 0.0050720978, 0.034131397, -0.0020881998, 0.010300544, -0.033848338, -0.024905706, 0.061651632, 5.923878e-05, 0.017511323, 0.0051928572, 0.0049457005, 0.025084743, -0.0047377576, -0.009690498, 0.01791431, 0.027982127, -0.006006054, 0.02149347, 0.0075571183, 0.0072582695, 0.018207472, -0.0033839836, 0.0037772802, -0.030009983, -0.015243235, -0.021197382, -0.008346351, 0.017365925, -0.00011850711, 0.029220082, -0.012841885, -0.021674102, -0.0016839589, -0.0006735351, -0.009979897, 0.012720367, -0.01648901, -0.0029342049, 0.027905224, -0.037005417, 0.019482492, 0.002240809, -0.033931363, 0.0072387517, 0.0066045346, -0.031105733, 0.017644057, -0.029211594, 0.002824615, -0.007552463, 0.03560853, 0.007056069, -0.019837433, 0.0017192061, -0.028787088, -0.006154769, -0.013746469, 0.0076837265, -0.020659545, -0.013817385, -0.018828653, -0.018396104, -0.014800768, -0.006581043, -0.061493907, 0.016374774, 0.003394965, -0.015905567, 0.00018612397, 0.028692737, -0.017896706, 0.0031488554, 0.0051704645, 0.009900292, 0.031741492, -0.014865397, -1.2187542e-05, 0.0071282787, 0.014322785, -0.0032532264, -0.04141657, -0.019213136, 0.005546882, 0.010228808, -0.01159917, -0.013612142, 0.03860741, -0.0022675202, -0.01603593, 0.0041224244, -0.014603487, 0.013512045, -0.00039792006, -0.0008905309, 0.0075069093, 0.012445452, 0.018723333, 0.0048611374, 0.00830335, -0.016158523, 0.02615553, 0.0070828325, 0.039264858, 0.013461729, -0.010200925, 0.023362946, -0.01851467, -0.0077569736, -0.008609107, 0.004450094, 0.0048239664, 0.01975149, -0.014713694, -0.0198008, -0.023378069, 0.032890085, 0.02940787, 0.16685936, -0.02331032, -0.00021769984, -0.04830993, 0.028343795, -0.01995898, 0.028482514, 0.013193719, -0.027380576, 0.01482229, 0.019610861, 0.015487122, 0.0037950543, 0.013562009, -0.006184886, 0.012665419, 0.009151384, -0.020959532, 0.00082405866, -0.013454399, -0.02437287, 0.016420143, 0.010425667, 0.013197248, -0.008418237, -0.00072065485, -0.0010517504, -0.00028805502, 0.0012241723, 0.0062790955, -0.0017933676, -0.015358282, 0.027223237, 0.018567221, -0.0110400375, 0.02407838, 0.012759982, -0.012526168, 0.0046177804, 0.0056519327, -0.009707482, -0.009919154, 0.018534748, -0.0064389715, 0.007808811, 0.0009124331, 0.00043726896, 0.041986942, 0.002902633, 0.0112398, 0.0066058896, 0.04736218, 0.012750625, -0.007984801, -0.007343128, -0.018037831, 0.022178363, -0.03127194, -0.0011685125, 0.016355777, 0.06114718, 0.01740896, 0.045639455, 0.021034334, 0.018207256, 0.02604778, 0.011442053, -0.0012538369, 0.010192311, 0.005886428, 0.03415356, 0.000501226, -0.0015400221, -0.0022400424, 0.013642849, -0.0006523454, 0.06431376, -0.011650917, -0.010409965, -0.21710299, -0.030665254, 0.009798242, -0.044658154, 0.009493583, 0.039473306, -0.009593058, 0.020037465, -0.00040197338, 0.003472119, 0.009552104, 0.0183963, 0.016823886, 0.01717733, -0.0034439396, 0.045767892, -0.027426254, 0.007747599, 0.00577888, -0.005707652, 0.034905832, 0.0008708711, 0.015825039, -0.008285969, -0.0057030595, -0.008081949, -0.01769727, -0.012521221, 0.0070848684, -0.008098484, -0.011768424, 0.024433827, 0.020565802, -0.019765357, -0.013836248, -0.0045907805, 0.0015539571, 0.013801157, 0.030034946, 0.016177556, -0.010681334, -0.016187005, 0.0014807465, -0.032015838, 0.020817997, -0.02030525, 0.024334267, -0.019213762, 0.0022167691, -0.010851836, 0.0058498974, 0.042357143, 0.019133402, -0.010281493, 0.033395376, 0.017023219, 0.027699988, 0.02192771, -0.017436989, -0.006502732, 0.017163357, 0.0033349877, -0.0013946069, 0.0045627602, -0.01791283, -0.032795403, 0.0055600996, 0.00034959946, -0.008159169, 0.021676987, -0.0016467151, -0.028024884, -0.010482467, -0.025271382, 0.008368939, -0.0003524116, 0.03570199, -0.0022694056, -0.023196554, 0.030878728, -0.007247762, -0.011133839, -0.030399268, -0.015880248, 0.0018870006, -0.5366745, 0.0068461676, -0.008533277, -0.013335188, -0.0060415366, 0.014004443, -0.01663963, -0.013267984, 0.007036357, -0.0036701234, -0.0054843375, -0.026431596, -0.016911784, -0.028255578, -0.027016398, 0.004943279], 'id': 3}]\n"
          ]
        }
      ],
      "source": [
        "# Get multiple entities by their IDs\n",
        "res = client.get(\n",
        "    collection_name=\"medium_articles_2020\",\n",
        "    ids=[1, 2, 3]\n",
        ")\n",
        "\n",
        "print(res)"
      ]
    },
    {
      "cell_type": "markdown",
      "id": "a61878ec-b276-4666-b70a-fa8111d0e19f",
      "metadata": {
        "id": "a61878ec-b276-4666-b70a-fa8111d0e19f"
      },
      "source": [
        "## Delete Entities\n",
        "\n",
        "If entities are outdated or no longer needed, you can delete them from a collection by their IDs. You can delete one or more entities at a time.\n",
        "\n",
        "Here are some examples of deleting entities."
      ]
    },
    {
      "cell_type": "code",
      "execution_count": null,
      "id": "f135a720-9c49-475e-8a2c-fae2a74152c7",
      "metadata": {
        "colab": {
          "base_uri": "https://localhost:8080/"
        },
        "id": "f135a720-9c49-475e-8a2c-fae2a74152c7",
        "outputId": "cefbbf1d-a778-489c-fcc6-b3dd9ec397c8"
      },
      "outputs": [
        {
          "output_type": "stream",
          "name": "stdout",
          "text": [
            "[0]\n"
          ]
        }
      ],
      "source": [
        "# Delete a single entity\n",
        "res = client.delete(\n",
        "    collection_name=\"medium_articles_2020\",\n",
        "    pks=0\n",
        ")\n",
        "\n",
        "print(res)"
      ]
    },
    {
      "cell_type": "code",
      "execution_count": null,
      "id": "412de500-56bc-456a-a905-e6ea4763962c",
      "metadata": {
        "colab": {
          "base_uri": "https://localhost:8080/"
        },
        "id": "412de500-56bc-456a-a905-e6ea4763962c",
        "outputId": "57b20bde-f540-4865-ea8e-53d882b43a46"
      },
      "outputs": [
        {
          "output_type": "stream",
          "name": "stdout",
          "text": [
            "[1, 2, 3]\n"
          ]
        }
      ],
      "source": [
        "# Delete a set of entities in a batch\n",
        "res = client.delete(\n",
        "    collection_name=\"medium_articles_2020\",\n",
        "    pks=[1, 2, 3]\n",
        ")\n",
        "\n",
        "print(res)"
      ]
    },
    {
      "cell_type": "markdown",
      "id": "ba07e063-5afc-455b-82ca-327e279ba871",
      "metadata": {
        "id": "ba07e063-5afc-455b-82ca-327e279ba871"
      },
      "source": [
        "## Drop Collection\n",
        "\n",
        "If a collection is no longer used, you can drop it from a cluster by collection name."
      ]
    },
    {
      "cell_type": "code",
      "execution_count": null,
      "id": "bbde02bb-e0ea-42a1-8f09-d94805ef3ad4",
      "metadata": {
        "colab": {
          "base_uri": "https://localhost:8080/"
        },
        "id": "bbde02bb-e0ea-42a1-8f09-d94805ef3ad4",
        "outputId": "c1531e73-c972-4155-aaa0-7c303414b826"
      },
      "outputs": [
        {
          "output_type": "stream",
          "name": "stdout",
          "text": [
            "None\n"
          ]
        }
      ],
      "source": [
        "# Drop a collection\n",
        "res = client.drop_collection(\n",
        "    collection_name=\"medium_articles_2020\"\n",
        ")\n",
        "\n",
        "print(res)"
      ]
    },
    {
      "cell_type": "code",
      "execution_count": null,
      "id": "6ef4f35a-cd33-465c-890f-9fdf5e0229c6",
      "metadata": {
        "id": "6ef4f35a-cd33-465c-890f-9fdf5e0229c6"
      },
      "outputs": [],
      "source": []
    }
  ],
  "metadata": {
    "kernelspec": {
      "display_name": "Python 3 (ipykernel)",
      "language": "python",
      "name": "python3"
    },
    "language_info": {
      "codemirror_mode": {
        "name": "ipython",
        "version": 3
      },
      "file_extension": ".py",
      "mimetype": "text/x-python",
      "name": "python",
      "nbconvert_exporter": "python",
      "pygments_lexer": "ipython3",
      "version": "3.8.10"
    },
    "colab": {
      "provenance": [],
      "include_colab_link": true
    }
  },
  "nbformat": 4,
  "nbformat_minor": 5
}